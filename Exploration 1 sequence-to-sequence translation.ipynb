{
 "cells": [
  {
   "cell_type": "markdown",
   "metadata": {
    "colab_type": "text"
   },
   "source": [
    "## **Sequence-to-sequence learning : EN to FR translation**"
   ]
  },
  {
   "cell_type": "markdown",
   "metadata": {
    "colab_type": "text"
   },
   "source": [
    "### **1. Small_vocab translation**"
   ]
  },
  {
   "cell_type": "code",
   "execution_count": 1,
   "metadata": {
    "tags": []
   },
   "outputs": [],
   "source": [
    "import os\n",
    "\n",
    "def load_data(path):\n",
    "\n",
    "    # Nombre maximum de lignes à renvoyer\n",
    "    max_lines = 140000\n",
    "    \n",
    "    input_file = os.path.join(path)\n",
    "    with open(input_file, \"r\",  encoding=\"utf-8\") as f:\n",
    "        data = f.read()\n",
    "        \n",
    "    # On convertit les majuscules en minulcule\n",
    "    data = data.lower()\n",
    "    \n",
    "    data = data.split('\\n')\n",
    "    return data[:min(len(data),max_lines)]\n",
    "\n",
    "#Chargement des textes dans les 2 langues (max lignes = max_lines)\n",
    "txt_en = load_data('data/small_vocab_en')\n",
    "txt_fr = load_data('data/small_vocab_fr')\n",
    "\n",
    "text_pairs = []\n",
    "for line in range(len(txt_en)):\n",
    "    txt_fr[line]=txt_fr[line].replace('à', 'a')\n",
    "    text_pairs.append((txt_en[line], \"[start] \" + txt_fr[line] + \" [end]\" ))\n",
    "    "
   ]
  },
  {
   "cell_type": "code",
   "execution_count": 2,
   "metadata": {
    "colab_type": "code",
    "tags": []
   },
   "outputs": [
    {
     "name": "stdout",
     "output_type": "stream",
     "text": [
      "('india is dry during november , and it is usually quiet in february .', \"[start] l' inde est sec au mois de novembre , et il est généralement calme en février . [end]\")\n"
     ]
    }
   ],
   "source": [
    "import random\n",
    "print(random.choice(text_pairs))"
   ]
  },
  {
   "cell_type": "code",
   "execution_count": 3,
   "metadata": {
    "colab_type": "code",
    "tags": []
   },
   "outputs": [],
   "source": [
    "import random\n",
    "random.shuffle(text_pairs)\n",
    "num_val_samples = int(0.15 * len(text_pairs))\n",
    "num_train_samples = len(text_pairs) - 2 * num_val_samples\n",
    "train_pairs = text_pairs[:num_train_samples]\n",
    "val_pairs = text_pairs[num_train_samples:num_train_samples + num_val_samples]\n",
    "test_pairs = text_pairs[num_train_samples + num_val_samples:]"
   ]
  },
  {
   "cell_type": "markdown",
   "metadata": {
    "colab_type": "text"
   },
   "source": [
    "**Vectorizing the English and French text pairs**"
   ]
  },
  {
   "cell_type": "code",
   "execution_count": 4,
   "metadata": {
    "colab_type": "code",
    "tags": []
   },
   "outputs": [],
   "source": [
    "import tensorflow as tf\n",
    "import string\n",
    "import re\n",
    "from tensorflow import keras\n",
    "from tensorflow.keras import layers\n",
    "\n",
    "strip_chars = string.punctuation + \"¿\"\n",
    "strip_chars = strip_chars.replace(\"[\", \"\")\n",
    "strip_chars = strip_chars.replace(\"]\", \"\")\n",
    "\n",
    "def custom_standardization(input_string):\n",
    "    lowercase = tf.strings.lower(input_string)\n",
    "    return tf.strings.regex_replace(\n",
    "        lowercase, f\"[{re.escape(strip_chars)}]\", \"\")\n",
    "\n",
    "vocab_size = 15000\n",
    "sequence_length = 30\n",
    "\n",
    "source_vectorization = layers.TextVectorization(\n",
    "    max_tokens=vocab_size,\n",
    "    output_mode=\"int\",\n",
    "    output_sequence_length=sequence_length,\n",
    ")\n",
    "target_vectorization = layers.TextVectorization(\n",
    "    max_tokens=vocab_size,\n",
    "    output_mode=\"int\",\n",
    "    output_sequence_length=sequence_length + 1,\n",
    "    standardize=custom_standardization,\n",
    ")\n",
    "train_english_texts = [pair[0] for pair in train_pairs]\n",
    "train_french_texts = [pair[1] for pair in train_pairs]\n",
    "# source_vectorization.adapt(train_english_texts)\n",
    "# target_vectorization.adapt(train_french_texts)\n",
    "english_texts = [pair[0] for pair in text_pairs]\n",
    "french_texts = [pair[1] for pair in text_pairs]\n",
    "source_vectorization.adapt(english_texts)\n",
    "target_vectorization.adapt(french_texts)"
   ]
  },
  {
   "cell_type": "markdown",
   "metadata": {
    "colab_type": "text"
   },
   "source": [
    "**Preparing datasets for the translation task**"
   ]
  },
  {
   "cell_type": "code",
   "execution_count": 5,
   "metadata": {
    "colab_type": "code",
    "tags": []
   },
   "outputs": [],
   "source": [
    "batch_size = 64\n",
    "\n",
    "def format_dataset(eng, fra):\n",
    "    eng = source_vectorization(eng)\n",
    "    fra = target_vectorization(fra)\n",
    "    return ({\n",
    "        \"english\": eng,\n",
    "        \"french\": fra[:, :-1],\n",
    "    }, fra[:, 1:])\n",
    "\n",
    "def make_dataset(pairs):\n",
    "    eng_texts, fra_texts = zip(*pairs)\n",
    "    eng_texts = list(eng_texts)\n",
    "    fra_texts = list(fra_texts)\n",
    "    dataset = tf.data.Dataset.from_tensor_slices((eng_texts, fra_texts))\n",
    "    dataset = dataset.batch(batch_size)\n",
    "    dataset = dataset.map(format_dataset, num_parallel_calls=4)\n",
    "    return dataset.shuffle(2048).prefetch(16).cache()\n",
    "\n",
    "train_ds = make_dataset(train_pairs)\n",
    "val_ds = make_dataset(val_pairs)"
   ]
  },
  {
   "cell_type": "code",
   "execution_count": 6,
   "metadata": {
    "colab_type": "code",
    "tags": []
   },
   "outputs": [
    {
     "name": "stdout",
     "output_type": "stream",
     "text": [
      "inputs['english'].shape: (64, 30)\n",
      "inputs['french'].shape: (64, 30)\n",
      "targets.shape: (64, 30)\n"
     ]
    }
   ],
   "source": [
    "for inputs, targets in train_ds.take(1):\n",
    "    print(f\"inputs['english'].shape: {inputs['english'].shape}\")\n",
    "    print(f\"inputs['french'].shape: {inputs['french'].shape}\")\n",
    "    print(f\"targets.shape: {targets.shape}\")"
   ]
  },
  {
   "cell_type": "markdown",
   "metadata": {
    "colab_type": "text"
   },
   "source": [
    "### **2. Sequence-to-sequence learning with RNNs**"
   ]
  },
  {
   "cell_type": "markdown",
   "metadata": {
    "colab_type": "text"
   },
   "source": [
    "**GRU-based encoder**"
   ]
  },
  {
   "cell_type": "code",
   "execution_count": 7,
   "metadata": {
    "colab_type": "code",
    "tags": []
   },
   "outputs": [],
   "source": [
    "from tensorflow import keras\n",
    "from tensorflow.keras import layers\n",
    "\n",
    "embed_dim = 256\n",
    "latent_dim = 1024\n",
    "\n",
    "source = keras.Input(shape=(None,), dtype=\"int64\", name=\"english\")\n",
    "x = layers.Embedding(vocab_size, embed_dim, mask_zero=True)(source)\n",
    "encoded_source = layers.Bidirectional(\n",
    "    layers.GRU(latent_dim), merge_mode=\"sum\")(x)"
   ]
  },
  {
   "cell_type": "markdown",
   "metadata": {
    "colab_type": "text"
   },
   "source": [
    "**GRU-based decoder and the end-to-end model**"
   ]
  },
  {
   "cell_type": "code",
   "execution_count": 8,
   "metadata": {
    "colab_type": "code",
    "tags": []
   },
   "outputs": [],
   "source": [
    "past_target = keras.Input(shape=(None,), dtype=\"int64\", name=\"french\")\n",
    "x = layers.Embedding(vocab_size, embed_dim, mask_zero=True)(past_target)\n",
    "decoder_gru = layers.GRU(latent_dim, return_sequences=True)\n",
    "x = decoder_gru(x, initial_state=encoded_source)\n",
    "x = layers.Dropout(0.5)(x)\n",
    "target_next_step = layers.Dense(vocab_size, activation=\"softmax\")(x)\n",
    "seq2seq_rnn = keras.Model([source, past_target], target_next_step)"
   ]
  },
  {
   "cell_type": "markdown",
   "metadata": {
    "colab_type": "text"
   },
   "source": [
    "**Training our recurrent sequence-to-sequence model**"
   ]
  },
  {
   "cell_type": "code",
   "execution_count": 9,
   "metadata": {
    "colab_type": "code",
    "tags": []
   },
   "outputs": [
    {
     "name": "stdout",
     "output_type": "stream",
     "text": [
      "Epoch 1/15\n",
      "1508/1508 [==============================] - 124s 75ms/step - loss: 0.3095 - accuracy: 0.8094 - val_loss: 0.0375 - val_accuracy: 0.9768\n",
      "Epoch 2/15\n",
      "1508/1508 [==============================] - 112s 74ms/step - loss: 0.0317 - accuracy: 0.9811 - val_loss: 0.0201 - val_accuracy: 0.9878\n",
      "Epoch 3/15\n",
      "1508/1508 [==============================] - 112s 74ms/step - loss: 0.0203 - accuracy: 0.9880 - val_loss: 0.0149 - val_accuracy: 0.9911\n",
      "Epoch 4/15\n",
      "1508/1508 [==============================] - 112s 74ms/step - loss: 0.0157 - accuracy: 0.9908 - val_loss: 0.0133 - val_accuracy: 0.9923\n",
      "Epoch 5/15\n",
      "1508/1508 [==============================] - 112s 74ms/step - loss: 0.0135 - accuracy: 0.9921 - val_loss: 0.0115 - val_accuracy: 0.9932\n",
      "Epoch 6/15\n",
      "1508/1508 [==============================] - 112s 74ms/step - loss: 0.0118 - accuracy: 0.9930 - val_loss: 0.0108 - val_accuracy: 0.9938\n",
      "Epoch 7/15\n",
      "1508/1508 [==============================] - 112s 74ms/step - loss: 0.0108 - accuracy: 0.9936 - val_loss: 0.0109 - val_accuracy: 0.9940\n",
      "Epoch 8/15\n",
      "1508/1508 [==============================] - 112s 74ms/step - loss: 0.0100 - accuracy: 0.9941 - val_loss: 0.0097 - val_accuracy: 0.9946\n",
      "Epoch 9/15\n",
      "1508/1508 [==============================] - 112s 74ms/step - loss: 0.0092 - accuracy: 0.9945 - val_loss: 0.0097 - val_accuracy: 0.9948\n",
      "Epoch 10/15\n",
      "1508/1508 [==============================] - 112s 74ms/step - loss: 0.0090 - accuracy: 0.9947 - val_loss: 0.0097 - val_accuracy: 0.9950\n",
      "Epoch 11/15\n",
      "1508/1508 [==============================] - 113s 75ms/step - loss: 0.0086 - accuracy: 0.9949 - val_loss: 0.0095 - val_accuracy: 0.9949\n",
      "Epoch 12/15\n",
      "1508/1508 [==============================] - 113s 75ms/step - loss: 0.0083 - accuracy: 0.9950 - val_loss: 0.0091 - val_accuracy: 0.9952\n",
      "Epoch 13/15\n",
      "1508/1508 [==============================] - 113s 75ms/step - loss: 0.0082 - accuracy: 0.9952 - val_loss: 0.0092 - val_accuracy: 0.9954\n",
      "Epoch 14/15\n",
      "1508/1508 [==============================] - 112s 74ms/step - loss: 0.0080 - accuracy: 0.9952 - val_loss: 0.0086 - val_accuracy: 0.9954\n",
      "Epoch 15/15\n",
      "1508/1508 [==============================] - 114s 75ms/step - loss: 0.0080 - accuracy: 0.9952 - val_loss: 0.0095 - val_accuracy: 0.9952\n"
     ]
    },
    {
     "data": {
      "text/plain": [
       "<keras.callbacks.History at 0x208cb09d190>"
      ]
     },
     "execution_count": 9,
     "metadata": {},
     "output_type": "execute_result"
    }
   ],
   "source": [
    "seq2seq_rnn.compile(\n",
    "    optimizer=\"rmsprop\",\n",
    "    loss=\"sparse_categorical_crossentropy\",\n",
    "    metrics=[\"accuracy\"])\n",
    "seq2seq_rnn.fit(train_ds, epochs=15, validation_data=val_ds)"
   ]
  },
  {
   "cell_type": "markdown",
   "metadata": {
    "colab_type": "text",
    "tags": []
   },
   "source": [
    "**Saving of the trained RNN model**"
   ]
  },
  {
   "cell_type": "code",
   "execution_count": 10,
   "metadata": {
    "tags": []
   },
   "outputs": [],
   "source": [
    "seq2seq_rnn.save(\"data/saved-fra-eng/seq2seq_rnn-fra-en-model.h5\")"
   ]
  },
  {
   "cell_type": "markdown",
   "metadata": {
    "colab_type": "text"
   },
   "source": [
    "**Loading of the trained RNN model**"
   ]
  },
  {
   "cell_type": "code",
   "execution_count": 11,
   "metadata": {
    "tags": []
   },
   "outputs": [],
   "source": [
    "seq2seq_rnn = keras.models.load_model(\"data/saved-fra-eng/seq2seq_rnn-fra-en-model.h5\")"
   ]
  },
  {
   "cell_type": "markdown",
   "metadata": {
    "colab_type": "text"
   },
   "source": [
    "**Translating new sentences with our RNN encoder and decoder**"
   ]
  },
  {
   "cell_type": "code",
   "execution_count": 18,
   "metadata": {
    "colab_type": "code",
    "tags": []
   },
   "outputs": [
    {
     "name": "stdout",
     "output_type": "stream",
     "text": [
      "-\n",
      "EN   he is driving a big blue truck .\n",
      "FR-> il est au volant d un gros camion bleu\n",
      "-\n",
      "EN   india is never quiet during april , but it is never beautiful in winter .\n",
      "FR-> l inde est jamais tranquille en avril mais il est beau jamais en hiver\n",
      "-\n",
      "EN   his favorite fruit is the peach , but our favorite is the grapefruit .\n",
      "FR-> son fruit préféré est la pêche mais notre préféré est le pamplemousse\n",
      "-\n",
      "EN   she likes that rusty green car .\n",
      "FR-> elle aime cette voiture verte rouillée\n",
      "-\n",
      "EN   he is driving that big yellow truck .\n",
      "FR-> il conduit ce grand camion jaune\n",
      "-\n",
      "EN   india is freezing during may , but it is never snowy in august .\n",
      "FR-> l inde est le gel en mai mais jamais de neige en août\n",
      "-\n",
      "EN   china is beautiful during march , and it is wet in december .\n",
      "FR-> chine est belle en mars et il est humide en décembre\n",
      "-\n",
      "EN   paris is freezing during autumn , and it is usually rainy in february .\n",
      "FR-> paris est le gel a lautomne et il est généralement pluvieux en février\n",
      "-\n",
      "EN   she likes peaches , lemons , and oranges .\n",
      "FR-> elle aime les pêches les citrons et les oranges\n",
      "-\n",
      "EN   my least favorite fruit is the lime , but her least favorite is the orange .\n",
      "FR-> mon fruit préféré est moins la chaux mais son moins préféré est lorange\n",
      "-\n",
      "EN   the united states is usually mild during autumn , but it is never freezing in fall .\n",
      "FR-> les étatsunis est généralement doux a lautomne mais il est jamais congélation a l automne\n",
      "-\n",
      "EN   the united states is cold during july , but it is sometimes hot in april .\n",
      "FR-> les étatsunis est froid en juillet mais il est parfois chaud en avril\n",
      "-\n",
      "EN   the orange is my least favorite fruit , but the peach is our least favorite .\n",
      "FR-> lorange est mon fruit préféré moins mais la pêche est notre moins préféré\n",
      "-\n",
      "EN   she likes that old green automobile .\n",
      "FR-> elle aime cette vieille voiture verte\n",
      "-\n",
      "EN   france is never pleasant during august , and it is sometimes chilly in july .\n",
      "FR-> la france est jamais agréable au mois d août et il est parfois frisquet en juillet\n",
      "-\n",
      "EN   she likes limes , strawberries , and peaches .\n",
      "FR-> elle aime citrons verts les fraises et les pêches\n",
      "-\n",
      "EN   she dislikes lemons , bananas , and strawberries .\n",
      "FR-> elle déteste les citrons les bananes et les fraises\n",
      "-\n",
      "EN   i plan to visit paris next winter .\n",
      "FR-> je prévois de visiter paris l hiver prochain\n",
      "-\n",
      "EN   china is sometimes pleasant during fall , and it is sometimes freezing in february .\n",
      "FR-> la chine est parfois agréable a lautomne et il est parfois le gel en février\n",
      "-\n",
      "EN   the grape is our most loved fruit , but the banana is their most loved .\n",
      "FR-> le raisin est notre fruit le plus cher mais la banane est leur plus aimé\n"
     ]
    }
   ],
   "source": [
    "import numpy as np\n",
    "fra_vocab = target_vectorization.get_vocabulary()\n",
    "fra_index_lookup = dict(zip(range(len(fra_vocab)), fra_vocab))\n",
    "max_decoded_sentence_length = 30\n",
    "\n",
    "def decode_sequence(input_sentence):\n",
    "    tokenized_input_sentence = source_vectorization([input_sentence])\n",
    "    decoded_sentence = \"[start]\"\n",
    "    for i in range(max_decoded_sentence_length):\n",
    "        tokenized_target_sentence = target_vectorization([decoded_sentence])\n",
    "        next_token_predictions = seq2seq_rnn.predict(\n",
    "            [tokenized_input_sentence, tokenized_target_sentence], verbose=0)\n",
    "        sampled_token_index = np.argmax(next_token_predictions[0, i, :])\n",
    "        sampled_token = fra_index_lookup[sampled_token_index]\n",
    "        decoded_sentence += \" \" + sampled_token\n",
    "        if sampled_token == \"[end]\":\n",
    "            break\n",
    "    return decoded_sentence[8:-6]\n",
    "\n",
    "test_eng_texts = [pair[0] for pair in test_pairs]\n",
    "for _ in range(20):\n",
    "    input_sentence = random.choice(test_eng_texts)\n",
    "    print(\"-\")\n",
    "    print(\"EN  \",input_sentence)\n",
    "    print(\"FR->\",decode_sequence(input_sentence))"
   ]
  },
  {
   "cell_type": "markdown",
   "metadata": {
    "colab_type": "text"
   },
   "source": [
    "### **3. Sequence-to-sequence learning with Transformer**"
   ]
  },
  {
   "cell_type": "markdown",
   "metadata": {
    "colab_type": "text"
   },
   "source": [
    "#### The Transformer decoder"
   ]
  },
  {
   "cell_type": "markdown",
   "metadata": {
    "colab_type": "text"
   },
   "source": [
    "**The `TransformerDecoder`**"
   ]
  },
  {
   "cell_type": "code",
   "execution_count": 7,
   "metadata": {
    "colab_type": "code",
    "tags": []
   },
   "outputs": [],
   "source": [
    "class TransformerDecoder(layers.Layer):\n",
    "    def __init__(self, embed_dim, dense_dim, num_heads, **kwargs):\n",
    "        super().__init__(**kwargs)\n",
    "        self.embed_dim = embed_dim\n",
    "        self.dense_dim = dense_dim\n",
    "        self.num_heads = num_heads\n",
    "        self.attention_1 = layers.MultiHeadAttention(\n",
    "            num_heads=num_heads, key_dim=embed_dim)\n",
    "        self.attention_2 = layers.MultiHeadAttention(\n",
    "            num_heads=num_heads, key_dim=embed_dim)\n",
    "        self.dense_proj = keras.Sequential(\n",
    "            [layers.Dense(dense_dim, activation=\"relu\"),\n",
    "             layers.Dense(embed_dim),]\n",
    "        )\n",
    "        self.layernorm_1 = layers.LayerNormalization()\n",
    "        self.layernorm_2 = layers.LayerNormalization()\n",
    "        self.layernorm_3 = layers.LayerNormalization()\n",
    "        self.supports_masking = True\n",
    "\n",
    "    def get_config(self):\n",
    "        config = super().get_config()\n",
    "        config.update({\n",
    "            \"embed_dim\": self.embed_dim,\n",
    "            \"num_heads\": self.num_heads,\n",
    "            \"dense_dim\": self.dense_dim,\n",
    "        })\n",
    "        return config\n",
    "\n",
    "    def get_causal_attention_mask(self, inputs):\n",
    "        input_shape = tf.shape(inputs)\n",
    "        batch_size, sequence_length = input_shape[0], input_shape[1]\n",
    "        i = tf.range(sequence_length)[:, tf.newaxis]\n",
    "        j = tf.range(sequence_length)\n",
    "        mask = tf.cast(i >= j, dtype=\"int32\")\n",
    "        mask = tf.reshape(mask, (1, input_shape[1], input_shape[1]))\n",
    "        mult = tf.concat(\n",
    "            [tf.expand_dims(batch_size, -1),\n",
    "             tf.constant([1, 1], dtype=tf.int32)], axis=0)\n",
    "        return tf.tile(mask, mult)\n",
    "\n",
    "    def call(self, inputs, encoder_outputs, mask=None):\n",
    "        causal_mask = self.get_causal_attention_mask(inputs)\n",
    "        if mask is not None:\n",
    "            padding_mask = tf.cast(\n",
    "                mask[:, tf.newaxis, :], dtype=\"int32\")\n",
    "            padding_mask = tf.minimum(padding_mask, causal_mask)\n",
    "        else:\n",
    "            padding_mask = mask\n",
    "        attention_output_1 = self.attention_1(\n",
    "            query=inputs,\n",
    "            value=inputs,\n",
    "            key=inputs,\n",
    "            attention_mask=causal_mask)\n",
    "        attention_output_1 = self.layernorm_1(inputs + attention_output_1)\n",
    "        attention_output_2 = self.attention_2(\n",
    "            query=attention_output_1,\n",
    "            value=encoder_outputs,\n",
    "            key=encoder_outputs,\n",
    "            attention_mask=padding_mask,\n",
    "        )\n",
    "        attention_output_2 = self.layernorm_2(\n",
    "            attention_output_1 + attention_output_2)\n",
    "        proj_output = self.dense_proj(attention_output_2)\n",
    "        return self.layernorm_3(attention_output_2 + proj_output)"
   ]
  },
  {
   "cell_type": "markdown",
   "metadata": {
    "colab_type": "text"
   },
   "source": [
    "#### Putting it all together: A Transformer for machine translation"
   ]
  },
  {
   "cell_type": "markdown",
   "metadata": {
    "colab_type": "text"
   },
   "source": [
    "**PositionalEmbedding layer**"
   ]
  },
  {
   "cell_type": "code",
   "execution_count": 8,
   "metadata": {
    "colab_type": "code",
    "tags": []
   },
   "outputs": [],
   "source": [
    "class PositionalEmbedding(layers.Layer):\n",
    "    def __init__(self, sequence_length, input_dim, output_dim, **kwargs):\n",
    "        super().__init__(**kwargs)\n",
    "        self.token_embeddings = layers.Embedding(\n",
    "            input_dim=input_dim, output_dim=output_dim)\n",
    "        self.position_embeddings = layers.Embedding(\n",
    "            input_dim=sequence_length, output_dim=output_dim)\n",
    "        self.sequence_length = sequence_length\n",
    "        self.input_dim = input_dim\n",
    "        self.output_dim = output_dim\n",
    "\n",
    "    def call(self, inputs):\n",
    "        length = tf.shape(inputs)[-1]\n",
    "        positions = tf.range(start=0, limit=length, delta=1)\n",
    "        embedded_tokens = self.token_embeddings(inputs)\n",
    "        embedded_positions = self.position_embeddings(positions)\n",
    "        return embedded_tokens + embedded_positions\n",
    "\n",
    "    def compute_mask(self, inputs, mask=None):\n",
    "        return tf.math.not_equal(inputs, 0)\n",
    "\n",
    "    def get_config(self):\n",
    "        config = super(PositionalEmbedding, self).get_config()\n",
    "        config.update({\n",
    "            \"output_dim\": self.output_dim,\n",
    "            \"sequence_length\": self.sequence_length,\n",
    "            \"input_dim\": self.input_dim,\n",
    "        })\n",
    "        return config"
   ]
  },
  {
   "cell_type": "markdown",
   "metadata": {
    "colab_type": "text"
   },
   "source": [
    "**End-to-end Transformer**"
   ]
  },
  {
   "cell_type": "code",
   "execution_count": 9,
   "metadata": {
    "colab_type": "code",
    "tags": []
   },
   "outputs": [
    {
     "name": "stdout",
     "output_type": "stream",
     "text": [
      "Using TensorFlow backend\n"
     ]
    }
   ],
   "source": [
    "from keras_nlp.layers import TransformerEncoder\n",
    "embed_dim = 256\n",
    "dense_dim = 2048\n",
    "num_heads = 8\n",
    "\n",
    "encoder_inputs = keras.Input(shape=(None,), dtype=\"int64\", name=\"english\")\n",
    "x = PositionalEmbedding(sequence_length, vocab_size, embed_dim, name='positionalEmbeddingEnglish')(encoder_inputs)\n",
    "encoder_outputs = TransformerEncoder(dense_dim, num_heads, name='encoder_outputs')(x)\n",
    "\n",
    "decoder_inputs = keras.Input(shape=(None,), dtype=\"int64\", name=\"french\")\n",
    "x = PositionalEmbedding(sequence_length, vocab_size, embed_dim, name='positionalEmbeddingFrench')(decoder_inputs)\n",
    "x = TransformerDecoder(embed_dim, dense_dim, num_heads,  name='transformerDecoder')(x, encoder_outputs)\n",
    "x = layers.Dropout(0.5, name='dropout')(x)\n",
    "decoder_outputs = layers.Dense(vocab_size, activation=\"softmax\", name='decoder_outputs')(x)\n",
    "transformer = keras.Model([encoder_inputs, decoder_inputs], decoder_outputs)"
   ]
  },
  {
   "cell_type": "markdown",
   "metadata": {
    "colab_type": "text"
   },
   "source": [
    "**Training the sequence-to-sequence Transformer**"
   ]
  },
  {
   "cell_type": "code",
   "execution_count": 10,
   "metadata": {
    "colab_type": "code",
    "tags": []
   },
   "outputs": [
    {
     "name": "stdout",
     "output_type": "stream",
     "text": [
      "Epoch 1/15\n",
      "1508/1508 [==============================] - 94s 59ms/step - loss: 0.1608 - accuracy: 0.9202 - val_loss: 0.0363 - val_accuracy: 0.9763\n",
      "Epoch 2/15\n",
      "1508/1508 [==============================] - 89s 59ms/step - loss: 0.0382 - accuracy: 0.9770 - val_loss: 0.0265 - val_accuracy: 0.9833\n",
      "Epoch 3/15\n",
      "1508/1508 [==============================] - 90s 60ms/step - loss: 0.0300 - accuracy: 0.9823 - val_loss: 0.0223 - val_accuracy: 0.9864\n",
      "Epoch 4/15\n",
      "1508/1508 [==============================] - 90s 60ms/step - loss: 0.0253 - accuracy: 0.9851 - val_loss: 0.0204 - val_accuracy: 0.9874\n",
      "Epoch 5/15\n",
      "1508/1508 [==============================] - 90s 60ms/step - loss: 0.0220 - accuracy: 0.9871 - val_loss: 0.0178 - val_accuracy: 0.9891\n",
      "Epoch 6/15\n",
      "1508/1508 [==============================] - 91s 60ms/step - loss: 0.0192 - accuracy: 0.9888 - val_loss: 0.0159 - val_accuracy: 0.9906\n",
      "Epoch 7/15\n",
      "1508/1508 [==============================] - 91s 60ms/step - loss: 0.0170 - accuracy: 0.9901 - val_loss: 0.0145 - val_accuracy: 0.9912\n",
      "Epoch 8/15\n",
      "1508/1508 [==============================] - 91s 60ms/step - loss: 0.0155 - accuracy: 0.9910 - val_loss: 0.0141 - val_accuracy: 0.9919\n",
      "Epoch 9/15\n",
      "1508/1508 [==============================] - 91s 60ms/step - loss: 0.0141 - accuracy: 0.9918 - val_loss: 0.0132 - val_accuracy: 0.9923\n",
      "Epoch 10/15\n",
      "1508/1508 [==============================] - 90s 60ms/step - loss: 0.0129 - accuracy: 0.9925 - val_loss: 0.0148 - val_accuracy: 0.9918\n",
      "Epoch 11/15\n",
      "1508/1508 [==============================] - 90s 60ms/step - loss: 0.0121 - accuracy: 0.9929 - val_loss: 0.0119 - val_accuracy: 0.9932\n",
      "Epoch 12/15\n",
      "1508/1508 [==============================] - 90s 60ms/step - loss: 0.0114 - accuracy: 0.9934 - val_loss: 0.0107 - val_accuracy: 0.9937\n",
      "Epoch 13/15\n",
      "1508/1508 [==============================] - 90s 60ms/step - loss: 0.0108 - accuracy: 0.9938 - val_loss: 0.0105 - val_accuracy: 0.9942\n",
      "Epoch 14/15\n",
      "1508/1508 [==============================] - 91s 60ms/step - loss: 0.0102 - accuracy: 0.9941 - val_loss: 0.0112 - val_accuracy: 0.9938\n",
      "Epoch 15/15\n",
      "1508/1508 [==============================] - 91s 61ms/step - loss: 0.0096 - accuracy: 0.9945 - val_loss: 0.0102 - val_accuracy: 0.9943\n"
     ]
    },
    {
     "data": {
      "text/plain": [
       "<keras.callbacks.History at 0x1d9ea5a5f70>"
      ]
     },
     "execution_count": 10,
     "metadata": {},
     "output_type": "execute_result"
    }
   ],
   "source": [
    "transformer.compile(\n",
    "    optimizer=\"rmsprop\",\n",
    "    loss=\"sparse_categorical_crossentropy\",\n",
    "    metrics=[\"accuracy\"])\n",
    "stop_early = keras.callbacks.EarlyStopping(monitor='val_loss', patience=3)\n",
    "transformer.fit(train_ds, epochs=15, validation_data=val_ds, callbacks=[stop_early])"
   ]
  },
  {
   "cell_type": "markdown",
   "metadata": {
    "colab_type": "text"
   },
   "source": [
    "**Saving of the trained Transformer model**"
   ]
  },
  {
   "cell_type": "code",
   "execution_count": 12,
   "metadata": {
    "tags": []
   },
   "outputs": [],
   "source": [
    "for i in range(len(transformer.weights)):\n",
    "    transformer.weights[i]._handle_name = transformer.weights[i].name + \"_\" + str(i)\n",
    "    \n",
    "transformer.save(\"data/saved-fra-eng/transformer-fra-en-model.h5\", include_optimizer=False)\n",
    "transformer.save_weights(\"data/saved-fra-eng/transformer-fra-en-model.weights.h5\")\n"
   ]
  },
  {
   "cell_type": "markdown",
   "metadata": {
    "colab_type": "text"
   },
   "source": [
    "**Loading of the trained Transformer model**"
   ]
  },
  {
   "cell_type": "code",
   "execution_count": 13,
   "metadata": {
    "tags": []
   },
   "outputs": [
    {
     "name": "stdout",
     "output_type": "stream",
     "text": [
      "WARNING:tensorflow:No training configuration found in the save file, so the model was *not* compiled. Compile it manually.\n"
     ]
    }
   ],
   "source": [
    "from keras_nlp.layers import TransformerEncoder\n",
    "transformer = keras.models.load_model(\n",
    "    \"data/saved-fra-eng/transformer-fra-en-model.h5\",\n",
    "    custom_objects={\"PositionalEmbedding\": PositionalEmbedding, \"TransformerDecoder\": TransformerDecoder},\n",
    ")\n",
    "transformer.load_weights(\"data/saved-fra-eng/transformer-fra-en-model.weights.h5\")"
   ]
  },
  {
   "cell_type": "markdown",
   "metadata": {
    "colab_type": "text"
   },
   "source": [
    "**Translating new sentences with our Transformer model**"
   ]
  },
  {
   "cell_type": "code",
   "execution_count": 19,
   "metadata": {
    "colab_type": "code",
    "tags": []
   },
   "outputs": [
    {
     "name": "stdout",
     "output_type": "stream",
     "text": [
      "-\n",
      "EN   she likes mangoes , apples , and bananas .\n",
      "FR-> elle aime les mangues les pommes et les bananes\n",
      "-\n",
      "EN   she was driving that big red automobile .\n",
      "FR-> elle conduisait cette grande voiture rouge\n",
      "-\n",
      "EN   new jersey is usually rainy during february , but it is sometimes quiet in april .\n",
      "FR-> new jersey est généralement pluvieux en février mais il est parfois calme en avril\n",
      "-\n",
      "EN   california is usually rainy during may , and it is sometimes chilly in april .\n",
      "FR-> californie est généralement pluvieux au mois de mai et il est parfois frisquet en avril\n",
      "-\n",
      "EN   france is never pleasant during june , and it is usually freezing in november .\n",
      "FR-> la france est jamais agréable en juin et il gèle habituellement en novembre\n",
      "-\n",
      "EN   paris is snowy during summer , and it is sometimes beautiful in spring .\n",
      "FR-> paris est neigeux pendant l été et il est parfois beau au printemps\n",
      "-\n",
      "EN   she disliked that big white automobile .\n",
      "FR-> elle naimait pas cette grande voiture blanche\n",
      "-\n",
      "EN   the orange is our least favorite fruit , but the banana is their least favorite .\n",
      "FR-> lorange est notre fruit préféré moins mais la banane est leur moins préférée\n",
      "-\n",
      "EN   they went to paris last september .\n",
      "FR-> ils sont allés a paris en septembre dernier\n",
      "-\n",
      "EN   the grape is my favorite fruit , but the peach is our favorite.\n",
      "FR-> le raisin est mon fruit préféré mais la pêche est notre préféré\n",
      "-\n",
      "EN   she is going to paris next fall .\n",
      "FR-> elle va a paris l automne prochain\n",
      "-\n",
      "EN   new jersey is sometimes dry during november , and it is never nice in march .\n",
      "FR-> new jersey est parfois sèche en novembre et il est jamais agréable en mars\n",
      "-\n",
      "EN   her most loved animal is that horse .\n",
      "FR-> lanimal le plus aimé est que le cheval\n",
      "-\n",
      "EN   the united states is sometimes beautiful during december , but it is never snowy in autumn .\n",
      "FR-> les étatsunis est parfois beau en décembre mais jamais de neige a l automne\n",
      "-\n",
      "EN   new jersey is sometimes rainy during october , and it is usually cold in december .\n",
      "FR-> new jersey est parfois pluvieux en octobre et il est généralement froid en décembre\n",
      "-\n",
      "EN   california is sometimes dry during august , but it is sometimes cold in april .\n",
      "FR-> californie est parfois sèche au mois d août mais il est parfois froid en avril\n",
      "-\n",
      "EN   the united states is quiet during april , and it is sometimes freezing in spring .\n",
      "FR-> les étatsunis est calme en avril et il est parfois glaciales au printemps\n",
      "-\n",
      "EN   the peach is his favorite fruit , but the lemon is their favorite .\n",
      "FR-> la pêche est son fruit préféré mais le citron est leur favori\n",
      "-\n",
      "EN   the lime is my most loved fruit , but the strawberry is their most loved .\n",
      "FR-> la chaux est mon fruit le plus aimé mais la fraise est leur plus aimé\n",
      "-\n",
      "EN   new jersey is sometimes mild during july , but it is beautiful in fall .\n",
      "FR-> new jersey est parfois doux en juillet mais il est beau a l automne\n"
     ]
    }
   ],
   "source": [
    "import numpy as np\n",
    "fra_vocab = target_vectorization.get_vocabulary()\n",
    "fra_index_lookup = dict(zip(range(len(fra_vocab)), fra_vocab))\n",
    "max_decoded_sentence_length = 30\n",
    "\n",
    "def decode_sequence(input_sentence):\n",
    "    tokenized_input_sentence = source_vectorization([input_sentence])\n",
    "    decoded_sentence = \"[start]\"\n",
    "    for i in range(max_decoded_sentence_length):\n",
    "        tokenized_target_sentence = target_vectorization(\n",
    "            [decoded_sentence])[:, :-1]\n",
    "        predictions = transformer(\n",
    "            [tokenized_input_sentence, tokenized_target_sentence])\n",
    "        sampled_token_index = np.argmax(predictions[0, i, :])\n",
    "        sampled_token = fra_index_lookup[sampled_token_index]\n",
    "        decoded_sentence += \" \" + sampled_token\n",
    "        if sampled_token == \"[end]\":\n",
    "            break\n",
    "    return decoded_sentence[8:-6]\n",
    "\n",
    "test_eng_texts = [pair[0] for pair in test_pairs]\n",
    "for _ in range(20):\n",
    "    input_sentence = random.choice(test_eng_texts)\n",
    "    print(\"-\")\n",
    "    print(\"EN  \",input_sentence)\n",
    "    print(\"FR->\",decode_sequence(input_sentence))"
   ]
  },
  {
   "cell_type": "code",
   "execution_count": 15,
   "metadata": {
    "tags": []
   },
   "outputs": [
    {
     "name": "stdout",
     "output_type": "stream",
     "text": [
      "FR-> inde ne fait jamais froid pendant l hiver mais il est beau a l automne\n"
     ]
    }
   ],
   "source": [
    "input_sentence = \"india is never cold during winter , but it is beautiful in autumn\"\n",
    "print(\"FR->\",decode_sequence(input_sentence))"
   ]
  }
 ],
 "metadata": {
  "colab": {
   "collapsed_sections": [],
   "name": "chapter11_part04_sequence-to-sequence-learning.i",
   "private_outputs": false,
   "provenance": [],
   "toc_visible": true
  },
  "kernelspec": {
   "display_name": "Python 3 (ipykernel)",
   "language": "python",
   "name": "python3"
  },
  "language_info": {
   "codemirror_mode": {
    "name": "ipython",
    "version": 3
   },
   "file_extension": ".py",
   "mimetype": "text/x-python",
   "name": "python",
   "nbconvert_exporter": "python",
   "pygments_lexer": "ipython3",
   "version": "3.9.7"
  }
 },
 "nbformat": 4,
 "nbformat_minor": 4
}
