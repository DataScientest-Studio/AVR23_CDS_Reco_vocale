{
 "cells": [
  {
   "cell_type": "markdown",
   "metadata": {
    "colab_type": "text"
   },
   "source": [
    "## **Sequence-to-sequence learning : EN to FR translation** - revision 01"
   ]
  },
  {
   "cell_type": "markdown",
   "metadata": {
    "colab_type": "text"
   },
   "source": [
    "### **1. Small_vocab translation**"
   ]
  },
  {
   "cell_type": "code",
   "execution_count": 1,
   "metadata": {
    "tags": []
   },
   "outputs": [],
   "source": [
    "import os\n",
    "\n",
    "def load_data(path):\n",
    "\n",
    "    # Nombre maximum de lignes à renvoyer\n",
    "    max_lines = 140000\n",
    "    \n",
    "    input_file = os.path.join(path)\n",
    "    with open(input_file, \"r\",  encoding=\"utf-8\") as f:\n",
    "        data = f.read()\n",
    "        \n",
    "    # On convertit les majuscules en minulcule\n",
    "    data = data.lower()\n",
    "    \n",
    "    data = data.split('\\n')\n",
    "    return data[:min(len(data),max_lines)]\n",
    "\n",
    "#Chargement des textes dans les 2 langues (max lignes = max_lines)\n",
    "txt_en = load_data('data/small_vocab_en')\n",
    "txt_fr = load_data('data/small_vocab_fr')\n",
    "\n",
    "text_pairs = []\n",
    "for line in range(len(txt_en)):\n",
    "    txt_fr[line]=txt_fr[line].replace('à', 'a')\n",
    "    text_pairs.append((txt_en[line], \"[start] \" + txt_fr[line] + \" [end]\" ))\n",
    "    "
   ]
  },
  {
   "cell_type": "code",
   "execution_count": 2,
   "metadata": {
    "colab_type": "code",
    "tags": []
   },
   "outputs": [
    {
     "name": "stdout",
     "output_type": "stream",
     "text": [
      "('california is usually wonderful during august , and it is pleasant in fall .', \"[start] californie est généralement merveilleux au mois d' août , et il est agréable a l' automne . [end]\")\n"
     ]
    }
   ],
   "source": [
    "import random\n",
    "print(random.choice(text_pairs))"
   ]
  },
  {
   "cell_type": "code",
   "execution_count": 3,
   "metadata": {
    "colab_type": "code",
    "tags": []
   },
   "outputs": [],
   "source": [
    "import random\n",
    "random.shuffle(text_pairs)\n",
    "num_val_samples = int(0.15 * len(text_pairs))\n",
    "num_train_samples = len(text_pairs) - 2 * num_val_samples\n",
    "train_pairs = text_pairs[:num_train_samples]\n",
    "val_pairs = text_pairs[num_train_samples:num_train_samples + num_val_samples]\n",
    "test_pairs = text_pairs[num_train_samples + num_val_samples:]"
   ]
  },
  {
   "cell_type": "markdown",
   "metadata": {
    "colab_type": "text"
   },
   "source": [
    "**Vectorizing the English and French text pairs**"
   ]
  },
  {
   "cell_type": "code",
   "execution_count": 4,
   "metadata": {
    "colab_type": "code",
    "tags": []
   },
   "outputs": [],
   "source": [
    "import tensorflow as tf\n",
    "import string\n",
    "import re\n",
    "from tensorflow import keras\n",
    "from tensorflow.keras import layers\n",
    "\n",
    "strip_chars = string.punctuation + \"¿\"\n",
    "strip_chars = strip_chars.replace(\"[\", \"\")\n",
    "strip_chars = strip_chars.replace(\"]\", \"\")\n",
    "\n",
    "def custom_standardization(input_string):\n",
    "    lowercase = tf.strings.lower(input_string)\n",
    "    return tf.strings.regex_replace(\n",
    "        lowercase, f\"[{re.escape(strip_chars)}]\", \"\")\n",
    "\n",
    "def save_vocab(file_path, vocab):\n",
    "    with open(file_path, \"w\",  encoding=\"utf-8\" ) as file:\n",
    "        for word in vocab:\n",
    "            file.write(word+'\\n')\n",
    "    return\n",
    "\n",
    "vocab_size = 15000\n",
    "sequence_length = 30\n",
    "\n",
    "source_vectorization = layers.TextVectorization(\n",
    "    max_tokens=vocab_size,\n",
    "    output_mode=\"int\",\n",
    "    output_sequence_length=sequence_length,\n",
    ")\n",
    "target_vectorization = layers.TextVectorization(\n",
    "    max_tokens=vocab_size,\n",
    "    output_mode=\"int\",\n",
    "    output_sequence_length=sequence_length + 1,\n",
    "    standardize=custom_standardization,\n",
    ")\n",
    "train_english_texts = [pair[0] for pair in train_pairs]\n",
    "train_french_texts = [pair[1] for pair in train_pairs]\n",
    "source_vectorization.adapt(train_english_texts)\n",
    "target_vectorization.adapt(train_french_texts)\n",
    "\n",
    "save_vocab(\"data/eng_vocab.txt\" , source_vectorization.get_vocabulary()[2:])\n",
    "save_vocab(\"data/fra_vocab.txt\" , target_vectorization.get_vocabulary()[2:])\n"
   ]
  },
  {
   "cell_type": "markdown",
   "metadata": {
    "colab_type": "text"
   },
   "source": [
    "**Preparing datasets for the translation task**"
   ]
  },
  {
   "cell_type": "code",
   "execution_count": 5,
   "metadata": {
    "colab_type": "code",
    "tags": []
   },
   "outputs": [],
   "source": [
    "batch_size = 64\n",
    "\n",
    "def format_dataset(eng, fra):\n",
    "    eng = source_vectorization(eng)\n",
    "    fra = target_vectorization(fra)\n",
    "    return ({\n",
    "        \"english\": eng,\n",
    "        \"french\": fra[:, :-1],\n",
    "    }, fra[:, 1:])\n",
    "\n",
    "def make_dataset(pairs):\n",
    "    eng_texts, fra_texts = zip(*pairs)\n",
    "    eng_texts = list(eng_texts)\n",
    "    fra_texts = list(fra_texts)\n",
    "    dataset = tf.data.Dataset.from_tensor_slices((eng_texts, fra_texts))\n",
    "    dataset = dataset.batch(batch_size)\n",
    "    dataset = dataset.map(format_dataset, num_parallel_calls=4)\n",
    "    return dataset.shuffle(2048).prefetch(16).cache()\n",
    "\n",
    "train_ds = make_dataset(train_pairs)\n",
    "val_ds = make_dataset(val_pairs)"
   ]
  },
  {
   "cell_type": "code",
   "execution_count": 6,
   "metadata": {
    "colab_type": "code",
    "tags": []
   },
   "outputs": [
    {
     "name": "stdout",
     "output_type": "stream",
     "text": [
      "inputs['english'].shape: (64, 30)\n",
      "inputs['french'].shape: (64, 30)\n",
      "targets.shape: (64, 30)\n"
     ]
    }
   ],
   "source": [
    "for inputs, targets in train_ds.take(1):\n",
    "    print(f\"inputs['english'].shape: {inputs['english'].shape}\")\n",
    "    print(f\"inputs['french'].shape: {inputs['french'].shape}\")\n",
    "    print(f\"targets.shape: {targets.shape}\")"
   ]
  },
  {
   "cell_type": "markdown",
   "metadata": {
    "colab_type": "text"
   },
   "source": [
    "### **2. Sequence-to-sequence learning with RNNs**"
   ]
  },
  {
   "cell_type": "markdown",
   "metadata": {
    "colab_type": "text"
   },
   "source": [
    "**GRU-based encoder**"
   ]
  },
  {
   "cell_type": "code",
   "execution_count": 7,
   "metadata": {
    "colab_type": "code",
    "tags": []
   },
   "outputs": [],
   "source": [
    "from tensorflow import keras\n",
    "from tensorflow.keras import layers\n",
    "\n",
    "embed_dim = 256\n",
    "latent_dim = 1024\n",
    "\n",
    "source = keras.Input(shape=(None,), dtype=\"int64\", name=\"english\")\n",
    "x = layers.Embedding(vocab_size, embed_dim, mask_zero=True)(source)\n",
    "encoded_source = layers.Bidirectional(\n",
    "    layers.GRU(latent_dim), merge_mode=\"sum\")(x)"
   ]
  },
  {
   "cell_type": "markdown",
   "metadata": {
    "colab_type": "text"
   },
   "source": [
    "**GRU-based decoder and the end-to-end model**"
   ]
  },
  {
   "cell_type": "code",
   "execution_count": 8,
   "metadata": {
    "colab_type": "code",
    "tags": []
   },
   "outputs": [],
   "source": [
    "past_target = keras.Input(shape=(None,), dtype=\"int64\", name=\"french\")\n",
    "x = layers.Embedding(vocab_size, embed_dim, mask_zero=True)(past_target)\n",
    "decoder_gru = layers.GRU(latent_dim, return_sequences=True)\n",
    "x = decoder_gru(x, initial_state=encoded_source)\n",
    "x = layers.Dropout(0.5)(x)\n",
    "target_next_step = layers.Dense(vocab_size, activation=\"softmax\")(x)\n",
    "seq2seq_rnn = keras.Model([source, past_target], target_next_step)"
   ]
  },
  {
   "cell_type": "markdown",
   "metadata": {
    "colab_type": "text"
   },
   "source": [
    "**Training our recurrent sequence-to-sequence model**"
   ]
  },
  {
   "cell_type": "code",
   "execution_count": 9,
   "metadata": {
    "colab_type": "code",
    "tags": []
   },
   "outputs": [
    {
     "name": "stdout",
     "output_type": "stream",
     "text": [
      "Epoch 1/15\n",
      "1508/1508 [==============================] - 125s 75ms/step - loss: 0.2761 - accuracy: 0.8339 - val_loss: 0.0336 - val_accuracy: 0.9790\n",
      "Epoch 2/15\n",
      "1508/1508 [==============================] - 114s 76ms/step - loss: 0.0295 - accuracy: 0.9824 - val_loss: 0.0173 - val_accuracy: 0.9894\n",
      "Epoch 3/15\n",
      "1508/1508 [==============================] - 113s 75ms/step - loss: 0.0197 - accuracy: 0.9885 - val_loss: 0.0141 - val_accuracy: 0.9915\n",
      "Epoch 4/15\n",
      "1508/1508 [==============================] - 117s 78ms/step - loss: 0.0156 - accuracy: 0.9908 - val_loss: 0.0122 - val_accuracy: 0.9927\n",
      "Epoch 5/15\n",
      "1508/1508 [==============================] - 115s 76ms/step - loss: 0.0132 - accuracy: 0.9922 - val_loss: 0.0108 - val_accuracy: 0.9937\n",
      "Epoch 6/15\n",
      "1508/1508 [==============================] - 115s 76ms/step - loss: 0.0118 - accuracy: 0.9930 - val_loss: 0.0100 - val_accuracy: 0.9942\n",
      "Epoch 7/15\n",
      "1508/1508 [==============================] - 116s 77ms/step - loss: 0.0106 - accuracy: 0.9937 - val_loss: 0.0098 - val_accuracy: 0.9945\n",
      "Epoch 8/15\n",
      "1508/1508 [==============================] - 119s 79ms/step - loss: 0.0101 - accuracy: 0.9940 - val_loss: 0.0100 - val_accuracy: 0.9944\n",
      "Epoch 9/15\n",
      "1508/1508 [==============================] - 119s 79ms/step - loss: 0.0096 - accuracy: 0.9942 - val_loss: 0.0094 - val_accuracy: 0.9948\n",
      "Epoch 10/15\n",
      "1508/1508 [==============================] - 121s 80ms/step - loss: 0.0091 - accuracy: 0.9946 - val_loss: 0.0090 - val_accuracy: 0.9950\n",
      "Epoch 11/15\n",
      "1508/1508 [==============================] - 122s 81ms/step - loss: 0.0088 - accuracy: 0.9947 - val_loss: 0.0090 - val_accuracy: 0.9952\n",
      "Epoch 12/15\n",
      "1508/1508 [==============================] - 121s 80ms/step - loss: 0.0088 - accuracy: 0.9947 - val_loss: 0.0088 - val_accuracy: 0.9954\n",
      "Epoch 13/15\n",
      "1508/1508 [==============================] - 120s 80ms/step - loss: 0.0086 - accuracy: 0.9949 - val_loss: 0.0087 - val_accuracy: 0.9954\n",
      "Epoch 14/15\n",
      "1508/1508 [==============================] - 124s 82ms/step - loss: 0.0085 - accuracy: 0.9950 - val_loss: 0.0090 - val_accuracy: 0.9954\n",
      "Epoch 15/15\n",
      "1508/1508 [==============================] - 124s 82ms/step - loss: 0.0084 - accuracy: 0.9950 - val_loss: 0.0087 - val_accuracy: 0.9953\n"
     ]
    },
    {
     "data": {
      "text/plain": [
       "<keras.callbacks.History at 0x1eab88456d0>"
      ]
     },
     "execution_count": 9,
     "metadata": {},
     "output_type": "execute_result"
    }
   ],
   "source": [
    "seq2seq_rnn.compile(\n",
    "    optimizer=\"rmsprop\",\n",
    "    loss=\"sparse_categorical_crossentropy\",\n",
    "    metrics=[\"accuracy\"])\n",
    "stop_early = keras.callbacks.EarlyStopping(monitor='val_loss', patience=3)\n",
    "seq2seq_rnn.fit(train_ds, epochs=15, validation_data=val_ds, callbacks=[stop_early])"
   ]
  },
  {
   "cell_type": "markdown",
   "metadata": {
    "colab_type": "text",
    "tags": []
   },
   "source": [
    "**Saving of the trained RNN model**"
   ]
  },
  {
   "cell_type": "code",
   "execution_count": 31,
   "metadata": {
    "tags": []
   },
   "outputs": [],
   "source": [
    "seq2seq_rnn.save(\"data/seq2seq_rnn-fra-en-model.h5\")"
   ]
  },
  {
   "cell_type": "markdown",
   "metadata": {
    "colab_type": "text"
   },
   "source": [
    "**Translating new sentences with our RNN encoder and decoder**"
   ]
  },
  {
   "cell_type": "code",
   "execution_count": 28,
   "metadata": {
    "colab_type": "code",
    "tags": []
   },
   "outputs": [
    {
     "name": "stdout",
     "output_type": "stream",
     "text": [
      "-\n",
      "EN   paris is sometimes chilly during january , but it is rainy in autumn .\n",
      "FR-> paris est parfois froid en janvier mais il pleut a l automne\n",
      "-\n",
      "EN   he thinks it is fun to translate between portuguese and chinese .\n",
      "FR-> il pense quil est amusant de traduire entre portugais et chinois\n",
      "-\n",
      "EN   the united states is nice during fall , but it is usually warm in october .\n",
      "FR-> les étatsunis est agréable a lautomne mais il est habituellement chaud en octobre\n",
      "-\n",
      "EN   she dislikes apples , bananas , and strawberries .\n",
      "FR-> elle déteste les pommes les bananes et les fraises\n",
      "-\n",
      "EN   california is warm during summer , and it is sometimes dry in february .\n",
      "FR-> californie est chaud pendant l été et il est parfois sec en février\n",
      "-\n",
      "EN   the united states is never freezing during february , but it is never relaxing in december .\n",
      "FR-> les étatsunis ne sont jamais glaciales en février mais il est jamais relaxant en décembre\n",
      "-\n",
      "EN   the grapefruit is his least favorite fruit , but the grape is my least favorite.\n",
      "FR-> le pamplemousse est son fruit préféré moins mais le raisin est mon préféré moins\n",
      "-\n",
      "EN   she likes bananas , strawberries , and grapes .\n",
      "FR-> elle aime les bananes les fraises et les raisins\n",
      "-\n",
      "EN   china is usually warm during winter , and it is never quiet in november .\n",
      "FR-> chine est généralement chaud pendant l hiver et il est jamais tranquille en novembre\n",
      "-\n",
      "EN   she disliked a little yellow truck .\n",
      "FR-> elle naimait pas un petit camion jaune\n",
      "-\n",
      "EN   she is driving a old white car .\n",
      "FR-> elle est au volant d une vieille voiture blanche\n",
      "-\n",
      "EN   china is sometimes freezing during winter , but it is never nice in january .\n",
      "FR-> la chine est parfois le gel pendant l hiver mais il est jamais agréable en janvier\n",
      "-\n",
      "EN   our least liked fruit is the grape , but my least liked is the grapefruit .\n",
      "FR-> notre moins aimé fruit est le raisin mais mon moins aimé est le pamplemousse\n",
      "-\n",
      "EN   the peach is my least liked fruit , but the orange is her least liked .\n",
      "FR-> la pêche est mon fruit moins aimé mais lorange elle est moins aimé\n",
      "-\n",
      "EN   france is usually beautiful during march , but it is warm in august .\n",
      "FR-> la france est généralement beau en mars mais il est chaud en août\n",
      "-\n",
      "EN   his least liked fruit is the pear , but their least liked is the grapefruit .\n",
      "FR-> son fruit est moins aimé la poire mais leur moins aimé est le pamplemousse\n",
      "-\n",
      "EN   when is she going to paris ?\n",
      "FR-> quand elle va a paris\n",
      "-\n",
      "EN   california is nice during january , but it is never beautiful in june .\n",
      "FR-> californie est agréable en janvier mais il est jamais beau en juin\n",
      "-\n",
      "EN   china is hot during august , and it is never wonderful in november .\n",
      "FR-> chine est chaud au mois d août et il est jamais merveilleux en novembre\n",
      "-\n",
      "EN   india is snowy during may , but it is sometimes rainy in january .\n",
      "FR-> l inde est la neige au mois de mai mais il est parfois pluvieux en janvier\n"
     ]
    }
   ],
   "source": [
    "import numpy as np\n",
    "fra_vocab = target_vectorization.get_vocabulary()\n",
    "fra_index_lookup = dict(zip(range(len(fra_vocab)), fra_vocab))\n",
    "max_decoded_sentence_length = 30\n",
    "\n",
    "def decode_sequence(input_sentence):\n",
    "    tokenized_input_sentence = source_vectorization([input_sentence])\n",
    "    decoded_sentence = \"[start]\"\n",
    "    for i in range(max_decoded_sentence_length):\n",
    "        tokenized_target_sentence = target_vectorization([decoded_sentence])\n",
    "        next_token_predictions = seq2seq_rnn.predict(\n",
    "            [tokenized_input_sentence, tokenized_target_sentence], verbose=0)\n",
    "        sampled_token_index = np.argmax(next_token_predictions[0, i, :])\n",
    "        sampled_token = fra_index_lookup[sampled_token_index]\n",
    "        decoded_sentence += \" \" + sampled_token\n",
    "        if sampled_token == \"[end]\":\n",
    "            break\n",
    "    return decoded_sentence[8:-6]\n",
    "\n",
    "test_eng_texts = [pair[0] for pair in test_pairs]\n",
    "for _ in range(20):\n",
    "    input_sentence = random.choice(test_eng_texts)\n",
    "    print(\"-\")\n",
    "    print(\"EN  \",input_sentence)\n",
    "    print(\"FR->\",decode_sequence(input_sentence))"
   ]
  },
  {
   "cell_type": "markdown",
   "metadata": {
    "colab_type": "text"
   },
   "source": [
    "### **3. Sequence-to-sequence learning with Transformer**"
   ]
  },
  {
   "cell_type": "markdown",
   "metadata": {
    "colab_type": "text"
   },
   "source": [
    "#### The Transformer decoder"
   ]
  },
  {
   "cell_type": "markdown",
   "metadata": {
    "colab_type": "text"
   },
   "source": [
    "**The `TransformerDecoder`**"
   ]
  },
  {
   "cell_type": "code",
   "execution_count": 13,
   "metadata": {
    "colab_type": "code",
    "tags": []
   },
   "outputs": [],
   "source": [
    "class TransformerDecoder(layers.Layer):\n",
    "    def __init__(self, embed_dim, dense_dim, num_heads, **kwargs):\n",
    "        super().__init__(**kwargs)\n",
    "        self.embed_dim = embed_dim\n",
    "        self.dense_dim = dense_dim\n",
    "        self.num_heads = num_heads\n",
    "        self.attention_1 = layers.MultiHeadAttention(\n",
    "            num_heads=num_heads, key_dim=embed_dim)\n",
    "        self.attention_2 = layers.MultiHeadAttention(\n",
    "            num_heads=num_heads, key_dim=embed_dim)\n",
    "        self.dense_proj = keras.Sequential(\n",
    "            [layers.Dense(dense_dim, activation=\"relu\"),\n",
    "             layers.Dense(embed_dim),]\n",
    "        )\n",
    "        self.layernorm_1 = layers.LayerNormalization()\n",
    "        self.layernorm_2 = layers.LayerNormalization()\n",
    "        self.layernorm_3 = layers.LayerNormalization()\n",
    "        self.supports_masking = True\n",
    "\n",
    "    def get_config(self):\n",
    "        config = super().get_config()\n",
    "        config.update({\n",
    "            \"embed_dim\": self.embed_dim,\n",
    "            \"num_heads\": self.num_heads,\n",
    "            \"dense_dim\": self.dense_dim,\n",
    "        })\n",
    "        return config\n",
    "\n",
    "    def get_causal_attention_mask(self, inputs):\n",
    "        input_shape = tf.shape(inputs)\n",
    "        batch_size, sequence_length = input_shape[0], input_shape[1]\n",
    "        i = tf.range(sequence_length)[:, tf.newaxis]\n",
    "        j = tf.range(sequence_length)\n",
    "        mask = tf.cast(i >= j, dtype=\"int32\")\n",
    "        mask = tf.reshape(mask, (1, input_shape[1], input_shape[1]))\n",
    "        mult = tf.concat(\n",
    "            [tf.expand_dims(batch_size, -1),\n",
    "             tf.constant([1, 1], dtype=tf.int32)], axis=0)\n",
    "        return tf.tile(mask, mult)\n",
    "\n",
    "    def call(self, inputs, encoder_outputs, mask=None):\n",
    "        causal_mask = self.get_causal_attention_mask(inputs)\n",
    "        if mask is not None:\n",
    "            padding_mask = tf.cast(\n",
    "                mask[:, tf.newaxis, :], dtype=\"int32\")\n",
    "            padding_mask = tf.minimum(padding_mask, causal_mask)\n",
    "        else:\n",
    "            padding_mask = mask\n",
    "        attention_output_1 = self.attention_1(\n",
    "            query=inputs,\n",
    "            value=inputs,\n",
    "            key=inputs,\n",
    "            attention_mask=causal_mask)\n",
    "        attention_output_1 = self.layernorm_1(inputs + attention_output_1)\n",
    "        attention_output_2 = self.attention_2(\n",
    "            query=attention_output_1,\n",
    "            value=encoder_outputs,\n",
    "            key=encoder_outputs,\n",
    "            attention_mask=padding_mask,\n",
    "        )\n",
    "        attention_output_2 = self.layernorm_2(\n",
    "            attention_output_1 + attention_output_2)\n",
    "        proj_output = self.dense_proj(attention_output_2)\n",
    "        return self.layernorm_3(attention_output_2 + proj_output)"
   ]
  },
  {
   "cell_type": "markdown",
   "metadata": {
    "colab_type": "text"
   },
   "source": [
    "#### Putting it all together: A Transformer for machine translation"
   ]
  },
  {
   "cell_type": "markdown",
   "metadata": {
    "colab_type": "text"
   },
   "source": [
    "**PositionalEmbedding layer**"
   ]
  },
  {
   "cell_type": "code",
   "execution_count": 14,
   "metadata": {
    "colab_type": "code",
    "tags": []
   },
   "outputs": [],
   "source": [
    "class PositionalEmbedding(layers.Layer):\n",
    "    def __init__(self, sequence_length, input_dim, output_dim, **kwargs):\n",
    "        super().__init__(**kwargs)\n",
    "        self.token_embeddings = layers.Embedding(\n",
    "            input_dim=input_dim, output_dim=output_dim)\n",
    "        self.position_embeddings = layers.Embedding(\n",
    "            input_dim=sequence_length, output_dim=output_dim)\n",
    "        self.sequence_length = sequence_length\n",
    "        self.input_dim = input_dim\n",
    "        self.output_dim = output_dim\n",
    "\n",
    "    def call(self, inputs):\n",
    "        length = tf.shape(inputs)[-1]\n",
    "        positions = tf.range(start=0, limit=length, delta=1)\n",
    "        embedded_tokens = self.token_embeddings(inputs)\n",
    "        embedded_positions = self.position_embeddings(positions)\n",
    "        return embedded_tokens + embedded_positions\n",
    "\n",
    "    def compute_mask(self, inputs, mask=None):\n",
    "        return tf.math.not_equal(inputs, 0)\n",
    "\n",
    "    def get_config(self):\n",
    "        config = super(PositionalEmbedding, self).get_config()\n",
    "        config.update({\n",
    "            \"output_dim\": self.output_dim,\n",
    "            \"sequence_length\": self.sequence_length,\n",
    "            \"input_dim\": self.input_dim,\n",
    "        })\n",
    "        return config"
   ]
  },
  {
   "cell_type": "markdown",
   "metadata": {
    "colab_type": "text"
   },
   "source": [
    "**End-to-end Transformer**"
   ]
  },
  {
   "cell_type": "code",
   "execution_count": 15,
   "metadata": {
    "colab_type": "code",
    "tags": []
   },
   "outputs": [
    {
     "name": "stdout",
     "output_type": "stream",
     "text": [
      "Using TensorFlow backend\n"
     ]
    }
   ],
   "source": [
    "from keras_nlp.layers import TransformerEncoder\n",
    "embed_dim = 256\n",
    "dense_dim = 2048\n",
    "num_heads = 8\n",
    "\n",
    "encoder_inputs = keras.Input(shape=(None,), dtype=\"int64\", name=\"english\")\n",
    "x = PositionalEmbedding(sequence_length, vocab_size, embed_dim, name='positionalEmbeddingEnglish')(encoder_inputs)\n",
    "encoder_outputs = TransformerEncoder(dense_dim, num_heads, name='encoder_outputs')(x)\n",
    "\n",
    "decoder_inputs = keras.Input(shape=(None,), dtype=\"int64\", name=\"french\")\n",
    "x = PositionalEmbedding(sequence_length, vocab_size, embed_dim, name='positionalEmbeddingFrench')(decoder_inputs)\n",
    "x = TransformerDecoder(embed_dim, dense_dim, num_heads,  name='transformerDecoder')(x, encoder_outputs)\n",
    "x = layers.Dropout(0.5, name='dropout')(x)\n",
    "decoder_outputs = layers.Dense(vocab_size, activation=\"softmax\", name='decoder_outputs')(x)\n",
    "transformer = keras.Model([encoder_inputs, decoder_inputs], decoder_outputs)"
   ]
  },
  {
   "cell_type": "markdown",
   "metadata": {
    "colab_type": "text"
   },
   "source": [
    "**Training the sequence-to-sequence Transformer**"
   ]
  },
  {
   "cell_type": "code",
   "execution_count": 16,
   "metadata": {
    "colab_type": "code",
    "tags": []
   },
   "outputs": [
    {
     "name": "stdout",
     "output_type": "stream",
     "text": [
      "Epoch 1/15\n",
      "1508/1508 [==============================] - 97s 62ms/step - loss: 0.1602 - accuracy: 0.9208 - val_loss: 0.0526 - val_accuracy: 0.9677\n",
      "Epoch 2/15\n",
      "1508/1508 [==============================] - 98s 65ms/step - loss: 0.0390 - accuracy: 0.9766 - val_loss: 0.0323 - val_accuracy: 0.9788\n",
      "Epoch 3/15\n",
      "1508/1508 [==============================] - 103s 68ms/step - loss: 0.0306 - accuracy: 0.9819 - val_loss: 0.0256 - val_accuracy: 0.9844\n",
      "Epoch 4/15\n",
      "1508/1508 [==============================] - 99s 65ms/step - loss: 0.0259 - accuracy: 0.9847 - val_loss: 0.0215 - val_accuracy: 0.9864\n",
      "Epoch 5/15\n",
      "1508/1508 [==============================] - 100s 66ms/step - loss: 0.0224 - accuracy: 0.9869 - val_loss: 0.0183 - val_accuracy: 0.9887\n",
      "Epoch 6/15\n",
      "1508/1508 [==============================] - 100s 66ms/step - loss: 0.0196 - accuracy: 0.9885 - val_loss: 0.0170 - val_accuracy: 0.9894\n",
      "Epoch 7/15\n",
      "1508/1508 [==============================] - 108s 71ms/step - loss: 0.0172 - accuracy: 0.9898 - val_loss: 0.0155 - val_accuracy: 0.9906\n",
      "Epoch 8/15\n",
      "1508/1508 [==============================] - 99s 66ms/step - loss: 0.0156 - accuracy: 0.9908 - val_loss: 0.0146 - val_accuracy: 0.9913\n",
      "Epoch 9/15\n",
      "1508/1508 [==============================] - 104s 69ms/step - loss: 0.0143 - accuracy: 0.9916 - val_loss: 0.0124 - val_accuracy: 0.9926\n",
      "Epoch 10/15\n",
      "1508/1508 [==============================] - 101s 67ms/step - loss: 0.0133 - accuracy: 0.9922 - val_loss: 0.0133 - val_accuracy: 0.9923\n",
      "Epoch 11/15\n",
      "1508/1508 [==============================] - 102s 67ms/step - loss: 0.0123 - accuracy: 0.9928 - val_loss: 0.0118 - val_accuracy: 0.9930\n",
      "Epoch 12/15\n",
      "1508/1508 [==============================] - 102s 68ms/step - loss: 0.0116 - accuracy: 0.9932 - val_loss: 0.0110 - val_accuracy: 0.9936\n",
      "Epoch 13/15\n",
      "1508/1508 [==============================] - 100s 66ms/step - loss: 0.0109 - accuracy: 0.9936 - val_loss: 0.0109 - val_accuracy: 0.9937\n",
      "Epoch 14/15\n",
      "1508/1508 [==============================] - 105s 70ms/step - loss: 0.0104 - accuracy: 0.9939 - val_loss: 0.0104 - val_accuracy: 0.9938\n",
      "Epoch 15/15\n",
      "1508/1508 [==============================] - 99s 66ms/step - loss: 0.0098 - accuracy: 0.9941 - val_loss: 0.0101 - val_accuracy: 0.9941\n"
     ]
    },
    {
     "data": {
      "text/plain": [
       "<keras.callbacks.History at 0x1eacdc0a820>"
      ]
     },
     "execution_count": 16,
     "metadata": {},
     "output_type": "execute_result"
    }
   ],
   "source": [
    "transformer.compile(\n",
    "    optimizer=\"rmsprop\",\n",
    "    loss=\"sparse_categorical_crossentropy\",\n",
    "    metrics=[\"accuracy\"])\n",
    "stop_early = keras.callbacks.EarlyStopping(monitor='val_loss', patience=3)\n",
    "transformer.fit(train_ds, epochs=15, validation_data=val_ds, callbacks=[stop_early])"
   ]
  },
  {
   "cell_type": "markdown",
   "metadata": {
    "colab_type": "text"
   },
   "source": [
    "**Saving of the trained Transformer model**"
   ]
  },
  {
   "cell_type": "code",
   "execution_count": 30,
   "metadata": {
    "tags": []
   },
   "outputs": [],
   "source": [
    "for i in range(len(transformer.weights)):\n",
    "    transformer.weights[i]._handle_name = transformer.weights[i].name + \"_\" + str(i)\n",
    "    \n",
    "transformer.save(\"data/transformer-fra-en-model.h5\", include_optimizer=False)\n",
    "transformer.save_weights(\"data/transformer-fra-en-model.weights.h5\")\n"
   ]
  },
  {
   "cell_type": "markdown",
   "metadata": {
    "colab_type": "text"
   },
   "source": [
    "**Translating new sentences with our Transformer model**"
   ]
  },
  {
   "cell_type": "code",
   "execution_count": 29,
   "metadata": {
    "colab_type": "code",
    "tags": []
   },
   "outputs": [
    {
     "name": "stdout",
     "output_type": "stream",
     "text": [
      "-\n",
      "EN   france is hot during january , and it is nice in december .\n",
      "FR-> france est chaud en janvier et il est agréable en décembre\n",
      "-\n",
      "EN   the peach is our favorite fruit , but the apple is my favorite .\n",
      "FR-> la pêche est notre fruit préféré mais la pomme est mon préféré\n",
      "-\n",
      "EN   they are going to france next autumn .\n",
      "FR-> ils vont en france l automne prochain\n",
      "-\n",
      "EN   the lemon is your favorite fruit , but the apple is my favorite .\n",
      "FR-> le citron est votre fruit préféré mais la pomme est mon préféré\n",
      "-\n",
      "EN   france is relaxing during june , and it is sometimes wet in winter .\n",
      "FR-> france est relaxant en juin et il est parfois humide en hiver\n",
      "-\n",
      "EN   california is relaxing during october , but it is never mild in may .\n",
      "FR-> california est relaxant en octobre mais il est jamais doux en mai\n",
      "-\n",
      "EN   your favorite fruit is the banana , but her favorite is the strawberry .\n",
      "FR-> votre fruit préféré est la banane mais son préféré est la fraise\n",
      "-\n",
      "EN   paris is usually beautiful during winter , and it is sometimes wet in april .\n",
      "FR-> paris est généralement beau pendant l hiver et il est parfois humide en avril\n",
      "-\n",
      "EN   california is usually relaxing during summer , but it is sometimes warm in september .\n",
      "FR-> california est relaxant habituellement pendant l été mais il est parfois chaud en septembre\n",
      "-\n",
      "EN   india is relaxing during autumn , and it is usually freezing in march .\n",
      "FR-> l inde est relaxant en automne et il gèle habituellement en mars\n",
      "-\n",
      "EN   he likes grapes , peaches , and limes.\n",
      "FR-> il aime les raisins les pêches et les citrons verts\n",
      "-\n",
      "EN   he dislikes grapefruit , mangoes , and bananas .\n",
      "FR-> il aime pas le pamplemousse les mangues et les bananes\n",
      "-\n",
      "EN   they went to china last september .\n",
      "FR-> ils sont allés en chine en septembre dernier\n",
      "-\n",
      "EN   china is wet during february , but it is never rainy in december .\n",
      "FR-> chine est humide en février mais jamais des pluies en décembre\n",
      "-\n",
      "EN   india is wet during february , but it is sometimes warm in spring .\n",
      "FR-> l inde est humide au mois de février mais il est parfois chaud au printemps\n",
      "-\n",
      "EN   china is busy during november , and it is sometimes nice in winter .\n",
      "FR-> chine est occupé en novembre et il est parfois agréable en hiver\n",
      "-\n",
      "EN   her most loved fruit is the grapefruit , but my most loved is the grape .\n",
      "FR-> son fruit le plus aimé est le pamplemousse mais mon plus aimé est le raisin\n",
      "-\n",
      "EN   france is never relaxing during october , and it is usually wonderful in november .\n",
      "FR-> la france est jamais relaxant en octobre et il est généralement merveilleux en novembre\n",
      "-\n",
      "EN   china is sometimes beautiful during february , and it is sometimes rainy in march .\n",
      "FR-> chine est parfois belle en février et il est parfois pluvieux en mars\n",
      "-\n",
      "EN   paris is sometimes rainy during may , and it is warm in fall .\n",
      "FR-> paris est parfois pluvieux au mois de mai et il est chaud a l automne\n"
     ]
    }
   ],
   "source": [
    "import numpy as np\n",
    "fra_vocab = target_vectorization.get_vocabulary()\n",
    "fra_index_lookup = dict(zip(range(len(fra_vocab)), fra_vocab))\n",
    "max_decoded_sentence_length = 30\n",
    "\n",
    "def decode_sequence(input_sentence):\n",
    "    tokenized_input_sentence = source_vectorization([input_sentence])\n",
    "    decoded_sentence = \"[start]\"\n",
    "    for i in range(max_decoded_sentence_length):\n",
    "        tokenized_target_sentence = target_vectorization(\n",
    "            [decoded_sentence])[:, :-1]\n",
    "        predictions = transformer(\n",
    "            [tokenized_input_sentence, tokenized_target_sentence])\n",
    "        sampled_token_index = np.argmax(predictions[0, i, :])\n",
    "        sampled_token = fra_index_lookup[sampled_token_index]\n",
    "        decoded_sentence += \" \" + sampled_token\n",
    "        if sampled_token == \"[end]\":\n",
    "            break\n",
    "    return decoded_sentence[8:-6]\n",
    "\n",
    "test_eng_texts = [pair[0] for pair in test_pairs]\n",
    "for _ in range(20):\n",
    "    input_sentence = random.choice(test_eng_texts)\n",
    "    print(\"-\")\n",
    "    print(\"EN  \",input_sentence)\n",
    "    print(\"FR->\",decode_sequence(input_sentence))"
   ]
  },
  {
   "cell_type": "markdown",
   "metadata": {},
   "source": [
    "<br></br>\n",
    "**You turn to play:** Enter a sentence.."
   ]
  },
  {
   "cell_type": "code",
   "execution_count": 20,
   "metadata": {
    "tags": []
   },
   "outputs": [
    {
     "name": "stdout",
     "output_type": "stream",
     "text": [
      "FR-> inde ne fait jamais froid pendant l hiver mais il est beau a l automne\n"
     ]
    }
   ],
   "source": [
    "input_sentence = \"india is never cold during winter , but it is beautiful in autumn\"\n",
    "print(\"FR->\",decode_sequence(input_sentence))"
   ]
  }
 ],
 "metadata": {
  "colab": {
   "collapsed_sections": [],
   "name": "chapter11_part04_sequence-to-sequence-learning.i",
   "private_outputs": false,
   "provenance": [],
   "toc_visible": true
  },
  "kernelspec": {
   "display_name": "Python 3 (ipykernel)",
   "language": "python",
   "name": "python3"
  },
  "language_info": {
   "codemirror_mode": {
    "name": "ipython",
    "version": 3
   },
   "file_extension": ".py",
   "mimetype": "text/x-python",
   "name": "python",
   "nbconvert_exporter": "python",
   "pygments_lexer": "ipython3",
   "version": "3.9.7"
  }
 },
 "nbformat": 4,
 "nbformat_minor": 4
}
