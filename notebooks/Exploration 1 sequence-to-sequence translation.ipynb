{
 "cells": [
  {
   "cell_type": "markdown",
   "metadata": {
    "colab_type": "text"
   },
   "source": [
    "## **Sequence-to-sequence learning : EN to FR translation** - revision 01"
   ]
  },
  {
   "cell_type": "markdown",
   "metadata": {
    "colab_type": "text"
   },
   "source": [
    "### **1. Small_vocab translation**"
   ]
  },
  {
   "cell_type": "code",
   "execution_count": 1,
   "metadata": {
    "tags": []
   },
   "outputs": [],
   "source": [
    "import os\n",
    "import time\n",
    "\n",
    "def load_data(path):\n",
    "\n",
    "    # Nombre maximum de lignes à renvoyer\n",
    "    max_lines = 140000\n",
    "    \n",
    "    input_file = os.path.join(path)\n",
    "    with open(input_file, \"r\",  encoding=\"utf-8\") as f:\n",
    "        data = f.read()\n",
    "        \n",
    "    # On convertit les majuscules en minulcule\n",
    "    data = data.lower()\n",
    "    \n",
    "    data = data.split('\\n')\n",
    "    return data[:min(len(data),max_lines)]\n",
    "\n",
    "# Indication de calculer le score Bleu\n",
    "bleu_score_to_do = True\n",
    "\n",
    "# Chargement des textes dans les 2 langues (max lignes = max_lines)\n",
    "txt_en = load_data('../data/small_vocab_en')\n",
    "txt_fr = load_data('../data/small_vocab_fr')\n",
    "\n",
    "text_pairs = []\n",
    "for line in range(len(txt_en)):\n",
    "    txt_fr[line]=txt_fr[line].replace('à', 'a')\n",
    "    text_pairs.append((txt_en[line], \"[start] \" + txt_fr[line] + \" [end]\" ))\n",
    "    "
   ]
  },
  {
   "cell_type": "code",
   "execution_count": 2,
   "metadata": {
    "colab_type": "code",
    "tags": []
   },
   "outputs": [
    {
     "name": "stdout",
     "output_type": "stream",
     "text": [
      "('they like peaches , grapes , and lemons .', '[start] ils aiment les pêches , les raisins et les citrons . [end]')\n"
     ]
    }
   ],
   "source": [
    "import random\n",
    "print(random.choice(text_pairs))"
   ]
  },
  {
   "cell_type": "code",
   "execution_count": 3,
   "metadata": {
    "colab_type": "code",
    "tags": []
   },
   "outputs": [],
   "source": [
    "import random\n",
    "random.shuffle(text_pairs)\n",
    "num_val_samples = int(0.15 * len(text_pairs))\n",
    "num_train_samples = len(text_pairs) - 2 * num_val_samples\n",
    "train_pairs = text_pairs[:num_train_samples]\n",
    "val_pairs = text_pairs[num_train_samples:num_train_samples + num_val_samples]\n",
    "test_pairs = text_pairs[num_train_samples + num_val_samples:]"
   ]
  },
  {
   "cell_type": "markdown",
   "metadata": {
    "colab_type": "text"
   },
   "source": [
    "**Vectorizing the English and French text pairs**"
   ]
  },
  {
   "cell_type": "code",
   "execution_count": 4,
   "metadata": {
    "colab_type": "code",
    "tags": []
   },
   "outputs": [],
   "source": [
    "import tensorflow as tf\n",
    "import string\n",
    "import re\n",
    "from tensorflow import keras\n",
    "from tensorflow.keras import layers\n",
    "\n",
    "strip_chars = string.punctuation + \"¿\"\n",
    "strip_chars = strip_chars.replace(\"[\", \"\")\n",
    "strip_chars = strip_chars.replace(\"]\", \"\")\n",
    "\n",
    "def custom_standardization(input_string):\n",
    "    lowercase = tf.strings.lower(input_string)\n",
    "    return tf.strings.regex_replace(\n",
    "        lowercase, f\"[{re.escape(strip_chars)}]\", \"\")\n",
    "\n",
    "def save_vocab(file_path, vocab):\n",
    "    with open(file_path, \"w\",  encoding=\"utf-8\" ) as file:\n",
    "        for word in vocab:\n",
    "            file.write(word+'\\n')\n",
    "    return\n",
    "\n",
    "vocab_size = 15000\n",
    "sequence_length = 30\n",
    "\n",
    "source_vectorization = layers.TextVectorization(\n",
    "    max_tokens=vocab_size,\n",
    "    output_mode=\"int\",\n",
    "    output_sequence_length=sequence_length,\n",
    ")\n",
    "target_vectorization = layers.TextVectorization(\n",
    "    max_tokens=vocab_size,\n",
    "    output_mode=\"int\",\n",
    "    output_sequence_length=sequence_length + 1,\n",
    "    standardize=custom_standardization,\n",
    ")\n",
    "train_english_texts = [pair[0] for pair in train_pairs]\n",
    "train_french_texts = [pair[1] for pair in train_pairs]\n",
    "source_vectorization.adapt(train_english_texts)\n",
    "target_vectorization.adapt(train_french_texts)\n",
    "\n",
    "save_vocab(\"../data/eng_vocab.txt\" , source_vectorization.get_vocabulary()[2:])\n",
    "save_vocab(\"../data/fra_vocab.txt\" , target_vectorization.get_vocabulary()[2:])\n"
   ]
  },
  {
   "cell_type": "markdown",
   "metadata": {
    "colab_type": "text"
   },
   "source": [
    "**Preparing datasets for the translation task**"
   ]
  },
  {
   "cell_type": "code",
   "execution_count": 5,
   "metadata": {
    "colab_type": "code",
    "tags": []
   },
   "outputs": [],
   "source": [
    "batch_size = 64\n",
    "\n",
    "def format_dataset(eng, fra):\n",
    "    eng = source_vectorization(eng)\n",
    "    fra = target_vectorization(fra)\n",
    "    return ({\n",
    "        \"english\": eng,\n",
    "        \"french\": fra[:, :-1],\n",
    "    }, fra[:, 1:])\n",
    "\n",
    "def make_dataset(pairs):\n",
    "    eng_texts, fra_texts = zip(*pairs)\n",
    "    eng_texts = list(eng_texts)\n",
    "    fra_texts = list(fra_texts)\n",
    "    dataset = tf.data.Dataset.from_tensor_slices((eng_texts, fra_texts))\n",
    "    dataset = dataset.batch(batch_size)\n",
    "    dataset = dataset.map(format_dataset, num_parallel_calls=4)\n",
    "    return dataset.shuffle(2048).prefetch(16).cache()\n",
    "\n",
    "train_ds = make_dataset(train_pairs)\n",
    "val_ds = make_dataset(val_pairs)"
   ]
  },
  {
   "cell_type": "code",
   "execution_count": 6,
   "metadata": {
    "colab_type": "code",
    "tags": []
   },
   "outputs": [
    {
     "name": "stdout",
     "output_type": "stream",
     "text": [
      "inputs['english'].shape: (64, 30)\n",
      "inputs['french'].shape: (64, 30)\n",
      "targets.shape: (64, 30)\n"
     ]
    }
   ],
   "source": [
    "for inputs, targets in train_ds.take(1):\n",
    "    print(f\"inputs['english'].shape: {inputs['english'].shape}\")\n",
    "    print(f\"inputs['french'].shape: {inputs['french'].shape}\")\n",
    "    print(f\"targets.shape: {targets.shape}\")"
   ]
  },
  {
   "cell_type": "markdown",
   "metadata": {
    "colab_type": "text"
   },
   "source": [
    "### **2. Sequence-to-sequence learning with RNNs**"
   ]
  },
  {
   "cell_type": "markdown",
   "metadata": {
    "colab_type": "text"
   },
   "source": [
    "**GRU-based encoder**"
   ]
  },
  {
   "cell_type": "code",
   "execution_count": 7,
   "metadata": {
    "colab_type": "code",
    "tags": []
   },
   "outputs": [],
   "source": [
    "from tensorflow import keras\n",
    "from tensorflow.keras import layers\n",
    "\n",
    "embed_dim = 256\n",
    "latent_dim = 1024\n",
    "\n",
    "source = keras.Input(shape=(None,), dtype=\"int64\", name=\"english\")\n",
    "x = layers.Embedding(vocab_size, embed_dim, mask_zero=True)(source)\n",
    "encoded_source = layers.Bidirectional(\n",
    "    layers.GRU(latent_dim), merge_mode=\"sum\")(x)"
   ]
  },
  {
   "cell_type": "markdown",
   "metadata": {
    "colab_type": "text"
   },
   "source": [
    "**GRU-based decoder and the end-to-end model**"
   ]
  },
  {
   "cell_type": "code",
   "execution_count": 8,
   "metadata": {
    "colab_type": "code",
    "tags": []
   },
   "outputs": [],
   "source": [
    "past_target = keras.Input(shape=(None,), dtype=\"int64\", name=\"french\")\n",
    "x = layers.Embedding(vocab_size, embed_dim, mask_zero=True)(past_target)\n",
    "decoder_gru = layers.GRU(latent_dim, return_sequences=True)\n",
    "x = decoder_gru(x, initial_state=encoded_source)\n",
    "x = layers.Dropout(0.5)(x)\n",
    "target_next_step = layers.Dense(vocab_size, activation=\"softmax\")(x)\n",
    "seq2seq_rnn = keras.Model([source, past_target], target_next_step)"
   ]
  },
  {
   "cell_type": "markdown",
   "metadata": {
    "colab_type": "text"
   },
   "source": [
    "**Training our recurrent sequence-to-sequence model**"
   ]
  },
  {
   "cell_type": "code",
   "execution_count": 9,
   "metadata": {
    "colab_type": "code",
    "tags": []
   },
   "outputs": [
    {
     "name": "stdout",
     "output_type": "stream",
     "text": [
      "Epoch 1/15\n",
      "1508/1508 [==============================] - 122s 73ms/step - loss: 0.2911 - accuracy: 0.8221 - val_loss: 0.0360 - val_accuracy: 0.9774\n",
      "Epoch 2/15\n",
      "1508/1508 [==============================] - 107s 71ms/step - loss: 0.0311 - accuracy: 0.9815 - val_loss: 0.0197 - val_accuracy: 0.9879\n",
      "Epoch 3/15\n",
      "1508/1508 [==============================] - 107s 71ms/step - loss: 0.0208 - accuracy: 0.9877 - val_loss: 0.0152 - val_accuracy: 0.9909\n",
      "Epoch 4/15\n",
      "1508/1508 [==============================] - 108s 72ms/step - loss: 0.0164 - accuracy: 0.9903 - val_loss: 0.0128 - val_accuracy: 0.9925\n",
      "Epoch 5/15\n",
      "1508/1508 [==============================] - 108s 72ms/step - loss: 0.0140 - accuracy: 0.9918 - val_loss: 0.0117 - val_accuracy: 0.9932\n",
      "Epoch 6/15\n",
      "1508/1508 [==============================] - 111s 74ms/step - loss: 0.0122 - accuracy: 0.9928 - val_loss: 0.0106 - val_accuracy: 0.9940\n",
      "Epoch 7/15\n",
      "1508/1508 [==============================] - 111s 74ms/step - loss: 0.0111 - accuracy: 0.9934 - val_loss: 0.0101 - val_accuracy: 0.9945\n",
      "Epoch 8/15\n",
      "1508/1508 [==============================] - 109s 72ms/step - loss: 0.0105 - accuracy: 0.9937 - val_loss: 0.0100 - val_accuracy: 0.9947\n",
      "Epoch 9/15\n",
      "1508/1508 [==============================] - 109s 72ms/step - loss: 0.0100 - accuracy: 0.9941 - val_loss: 0.0096 - val_accuracy: 0.9949\n",
      "Epoch 10/15\n",
      "1508/1508 [==============================] - 108s 72ms/step - loss: 0.0095 - accuracy: 0.9943 - val_loss: 0.0097 - val_accuracy: 0.9948\n",
      "Epoch 11/15\n",
      "1508/1508 [==============================] - 108s 72ms/step - loss: 0.0092 - accuracy: 0.9945 - val_loss: 0.0091 - val_accuracy: 0.9953\n",
      "Epoch 12/15\n",
      "1508/1508 [==============================] - 110s 73ms/step - loss: 0.0089 - accuracy: 0.9947 - val_loss: 0.0095 - val_accuracy: 0.9950\n",
      "Epoch 13/15\n",
      "1508/1508 [==============================] - 109s 72ms/step - loss: 0.0085 - accuracy: 0.9949 - val_loss: 0.0090 - val_accuracy: 0.9954\n",
      "Epoch 14/15\n",
      "1508/1508 [==============================] - 109s 73ms/step - loss: 0.0087 - accuracy: 0.9947 - val_loss: 0.0092 - val_accuracy: 0.9952\n",
      "Epoch 15/15\n",
      "1508/1508 [==============================] - 109s 72ms/step - loss: 0.0085 - accuracy: 0.9949 - val_loss: 0.0088 - val_accuracy: 0.9955\n"
     ]
    },
    {
     "data": {
      "text/plain": [
       "<keras.callbacks.History at 0x168ba74c1c0>"
      ]
     },
     "execution_count": 9,
     "metadata": {},
     "output_type": "execute_result"
    }
   ],
   "source": [
    "seq2seq_rnn.compile(\n",
    "    optimizer=\"rmsprop\",\n",
    "    loss=\"sparse_categorical_crossentropy\",\n",
    "    metrics=[\"accuracy\"])\n",
    "stop_early = keras.callbacks.EarlyStopping(monitor='val_loss', patience=3)\n",
    "seq2seq_rnn.fit(train_ds, epochs=15, validation_data=val_ds, callbacks=[stop_early])"
   ]
  },
  {
   "cell_type": "markdown",
   "metadata": {
    "colab_type": "text",
    "tags": []
   },
   "source": [
    "**Saving of the trained RNN model**"
   ]
  },
  {
   "cell_type": "code",
   "execution_count": 10,
   "metadata": {
    "tags": []
   },
   "outputs": [],
   "source": [
    "seq2seq_rnn.save(\"../data/seq2seq_rnn-fra-en-model.h5\")\n",
    "seq2seq_rnn.save(\"../data/seq2seq_rnn-fra-en-model_no_opt.h5\", include_optimizer=False)\n",
    "seq2seq_rnn.save_weights(\"../data/seq2seq_rnn-fra-en-model.weights.h5\")"
   ]
  },
  {
   "cell_type": "markdown",
   "metadata": {
    "colab_type": "text"
   },
   "source": [
    "**Translating new sentences with our RNN encoder and decoder**"
   ]
  },
  {
   "cell_type": "code",
   "execution_count": 11,
   "metadata": {
    "colab_type": "code",
    "tags": []
   },
   "outputs": [
    {
     "name": "stdout",
     "output_type": "stream",
     "text": [
      "-\n",
      "EN   new jersey is usually relaxing during november , and it is usually mild in october .\n",
      "FR-> new jersey est relaxant habituellement au mois de novembre et il est généralement doux en octobre\n",
      "-\n",
      "EN   the apple is his least liked fruit , but the peach is her least liked .\n",
      "FR-> la pomme est son fruit moins aimé mais la pêche elle est moins aimé\n",
      "-\n",
      "EN   china is freezing during november , but it is sometimes wet in july .\n",
      "FR-> chine gèle en novembre mais il est parfois humide en juillet\n",
      "-\n",
      "EN   my favorite animals are cats .\n",
      "FR-> mes animaux sont des chats préférés\n",
      "-\n",
      "EN   the grapefruit is your favorite fruit , but the peach is our favorite .\n",
      "FR-> le pamplemousse est votre fruit préféré mais la pêche est notre préféré\n",
      "-\n",
      "EN   the orange is her favorite fruit , but the lemon is my favorite .\n",
      "FR-> lorange est son fruit préféré mais le citron est mon préféré\n",
      "-\n",
      "EN   china is sometimes wet during august , but it is usually snowy in may .\n",
      "FR-> chine est parfois humide au mois d août mais il est généralement enneigée en mai\n",
      "-\n",
      "EN   new jersey is pleasant during october , but it is chilly in winter .\n",
      "FR-> new jersey est agréable au mois d octobre mais il est froid en hiver\n",
      "-\n",
      "EN   your least liked fruit is the pear , but his least liked is the grape .\n",
      "FR-> votre moins aimé fruit est la poire mais son moins aimé est le raisin\n",
      "-\n",
      "EN   new jersey is wonderful during spring , and it is usually rainy in autumn .\n",
      "FR-> new jersey est merveilleux au printemps et il est généralement pluvieux en automne\n",
      "-\n",
      "EN   he likes limes , oranges , and pears .\n",
      "FR-> il aime les oranges les citrons verts et les poires\n",
      "-\n",
      "EN   i think translating between english and portuguese is easy .\n",
      "FR-> je pense que la traduction entre l anglais et le portugais est facile\n",
      "-\n",
      "EN   california is warm during march , but it is sometimes pleasant in october .\n",
      "FR-> californie est chaud au mois de mars mais il est parfois agréable en octobre\n",
      "-\n",
      "EN   she is driving a big green automobile .\n",
      "FR-> elle est au volant d une grande voiture verte\n",
      "-\n",
      "EN   she likes grapefruit , grapes , and limes .\n",
      "FR-> elle aime le pamplemousse raisins et citrons verts\n",
      "-\n",
      "EN   california is usually chilly during fall , but it is usually snowy in november .\n",
      "FR-> californie est généralement froid pendant l automne mais il est généralement enneigée en novembre\n",
      "-\n",
      "EN   new jersey is sometimes cold during november , and it is busy in october .\n",
      "FR-> new jersey est parfois froid en novembre et il est occupé en octobre\n",
      "-\n",
      "EN   she likes pears , apples , and peaches .\n",
      "FR-> elle aime les poires les pommes et les pêches\n",
      "-\n",
      "EN   the strawberry is his favorite fruit , but the grapefruit is our favorite .\n",
      "FR-> la fraise est son fruit préféré mais le pamplemousse est notre préféré\n",
      "-\n",
      "EN   they like mangoes , apples , and bananas.\n",
      "FR-> ils aiment les mangues les pommes et les bananes\n"
     ]
    }
   ],
   "source": [
    "import numpy as np\n",
    "fra_vocab = target_vectorization.get_vocabulary()\n",
    "fra_index_lookup = dict(zip(range(len(fra_vocab)), fra_vocab))\n",
    "max_decoded_sentence_length = 30\n",
    "\n",
    "def decode_sequence_RNN(input_sentence):\n",
    "    tokenized_input_sentence = source_vectorization([input_sentence])\n",
    "    decoded_sentence = \"[start]\"\n",
    "    for i in range(max_decoded_sentence_length):\n",
    "        tokenized_target_sentence = target_vectorization([decoded_sentence])\n",
    "        next_token_predictions = seq2seq_rnn.predict(\n",
    "            [tokenized_input_sentence, tokenized_target_sentence], verbose=0)\n",
    "        sampled_token_index = np.argmax(next_token_predictions[0, i, :])\n",
    "        sampled_token = fra_index_lookup[sampled_token_index]\n",
    "        decoded_sentence += \" \" + sampled_token\n",
    "        if sampled_token == \"[end]\":\n",
    "            break\n",
    "    return decoded_sentence[8:-6]\n",
    "\n",
    "test_eng_texts = [pair[0] for pair in test_pairs]\n",
    "for _ in range(20):\n",
    "    input_sentence = random.choice(test_eng_texts)\n",
    "    print(\"-\")\n",
    "    print(\"EN  \",input_sentence)\n",
    "    print(\"FR->\",decode_sequence_RNN(input_sentence))"
   ]
  },
  {
   "cell_type": "markdown",
   "metadata": {
    "colab_type": "text"
   },
   "source": [
    "### **3. Sequence-to-sequence learning with Transformer**"
   ]
  },
  {
   "cell_type": "markdown",
   "metadata": {
    "colab_type": "text"
   },
   "source": [
    "#### The Transformer decoder"
   ]
  },
  {
   "cell_type": "markdown",
   "metadata": {
    "colab_type": "text"
   },
   "source": [
    "**The `TransformerDecoder`**"
   ]
  },
  {
   "cell_type": "code",
   "execution_count": 12,
   "metadata": {
    "colab_type": "code",
    "tags": []
   },
   "outputs": [],
   "source": [
    "class TransformerDecoder(layers.Layer):\n",
    "    def __init__(self, embed_dim, dense_dim, num_heads, **kwargs):\n",
    "        super().__init__(**kwargs)\n",
    "        self.embed_dim = embed_dim\n",
    "        self.dense_dim = dense_dim\n",
    "        self.num_heads = num_heads\n",
    "        self.attention_1 = layers.MultiHeadAttention(\n",
    "            num_heads=num_heads, key_dim=embed_dim)\n",
    "        self.attention_2 = layers.MultiHeadAttention(\n",
    "            num_heads=num_heads, key_dim=embed_dim)\n",
    "        self.dense_proj = keras.Sequential(\n",
    "            [layers.Dense(dense_dim, activation=\"relu\"),\n",
    "             layers.Dense(embed_dim),]\n",
    "        )\n",
    "        self.layernorm_1 = layers.LayerNormalization()\n",
    "        self.layernorm_2 = layers.LayerNormalization()\n",
    "        self.layernorm_3 = layers.LayerNormalization()\n",
    "        self.supports_masking = True\n",
    "\n",
    "    def get_config(self):\n",
    "        config = super().get_config()\n",
    "        config.update({\n",
    "            \"embed_dim\": self.embed_dim,\n",
    "            \"num_heads\": self.num_heads,\n",
    "            \"dense_dim\": self.dense_dim,\n",
    "        })\n",
    "        return config\n",
    "\n",
    "    def get_causal_attention_mask(self, inputs):\n",
    "        input_shape = tf.shape(inputs)\n",
    "        batch_size, sequence_length = input_shape[0], input_shape[1]\n",
    "        i = tf.range(sequence_length)[:, tf.newaxis]\n",
    "        j = tf.range(sequence_length)\n",
    "        mask = tf.cast(i >= j, dtype=\"int32\")\n",
    "        mask = tf.reshape(mask, (1, input_shape[1], input_shape[1]))\n",
    "        mult = tf.concat(\n",
    "            [tf.expand_dims(batch_size, -1),\n",
    "             tf.constant([1, 1], dtype=tf.int32)], axis=0)\n",
    "        return tf.tile(mask, mult)\n",
    "\n",
    "    def call(self, inputs, encoder_outputs, mask=None):\n",
    "        causal_mask = self.get_causal_attention_mask(inputs)\n",
    "        if mask is not None:\n",
    "            padding_mask = tf.cast(\n",
    "                mask[:, tf.newaxis, :], dtype=\"int32\")\n",
    "            padding_mask = tf.minimum(padding_mask, causal_mask)\n",
    "        else:\n",
    "            padding_mask = mask\n",
    "        attention_output_1 = self.attention_1(\n",
    "            query=inputs,\n",
    "            value=inputs,\n",
    "            key=inputs,\n",
    "            attention_mask=causal_mask)\n",
    "        attention_output_1 = self.layernorm_1(inputs + attention_output_1)\n",
    "        attention_output_2 = self.attention_2(\n",
    "            query=attention_output_1,\n",
    "            value=encoder_outputs,\n",
    "            key=encoder_outputs,\n",
    "            attention_mask=padding_mask,\n",
    "        )\n",
    "        attention_output_2 = self.layernorm_2(\n",
    "            attention_output_1 + attention_output_2)\n",
    "        proj_output = self.dense_proj(attention_output_2)\n",
    "        return self.layernorm_3(attention_output_2 + proj_output)"
   ]
  },
  {
   "cell_type": "markdown",
   "metadata": {
    "colab_type": "text"
   },
   "source": [
    "#### Putting it all together: A Transformer for machine translation"
   ]
  },
  {
   "cell_type": "markdown",
   "metadata": {
    "colab_type": "text"
   },
   "source": [
    "**PositionalEmbedding layer**"
   ]
  },
  {
   "cell_type": "code",
   "execution_count": 13,
   "metadata": {
    "colab_type": "code",
    "tags": []
   },
   "outputs": [],
   "source": [
    "class PositionalEmbedding(layers.Layer):\n",
    "    def __init__(self, sequence_length, input_dim, output_dim, **kwargs):\n",
    "        super().__init__(**kwargs)\n",
    "        self.token_embeddings = layers.Embedding(\n",
    "            input_dim=input_dim, output_dim=output_dim)\n",
    "        self.position_embeddings = layers.Embedding(\n",
    "            input_dim=sequence_length, output_dim=output_dim)\n",
    "        self.sequence_length = sequence_length\n",
    "        self.input_dim = input_dim\n",
    "        self.output_dim = output_dim\n",
    "\n",
    "    def call(self, inputs):\n",
    "        length = tf.shape(inputs)[-1]\n",
    "        positions = tf.range(start=0, limit=length, delta=1)\n",
    "        embedded_tokens = self.token_embeddings(inputs)\n",
    "        embedded_positions = self.position_embeddings(positions)\n",
    "        return embedded_tokens + embedded_positions\n",
    "\n",
    "    def compute_mask(self, inputs, mask=None):\n",
    "        return tf.math.not_equal(inputs, 0)\n",
    "\n",
    "    def get_config(self):\n",
    "        config = super(PositionalEmbedding, self).get_config()\n",
    "        config.update({\n",
    "            \"output_dim\": self.output_dim,\n",
    "            \"sequence_length\": self.sequence_length,\n",
    "            \"input_dim\": self.input_dim,\n",
    "        })\n",
    "        return config"
   ]
  },
  {
   "cell_type": "markdown",
   "metadata": {
    "colab_type": "text"
   },
   "source": [
    "**End-to-end Transformer**"
   ]
  },
  {
   "cell_type": "code",
   "execution_count": 14,
   "metadata": {
    "colab_type": "code",
    "tags": []
   },
   "outputs": [
    {
     "name": "stdout",
     "output_type": "stream",
     "text": [
      "Using TensorFlow backend\n"
     ]
    }
   ],
   "source": [
    "from keras_nlp.layers import TransformerEncoder\n",
    "embed_dim = 256\n",
    "dense_dim = 2048\n",
    "num_heads = 8\n",
    "\n",
    "encoder_inputs = keras.Input(shape=(None,), dtype=\"int64\", name=\"english\")\n",
    "x = PositionalEmbedding(sequence_length, vocab_size, embed_dim, name='positionalEmbeddingEnglish')(encoder_inputs)\n",
    "encoder_outputs = TransformerEncoder(dense_dim, num_heads, name='encoder_outputs')(x)\n",
    "\n",
    "decoder_inputs = keras.Input(shape=(None,), dtype=\"int64\", name=\"french\")\n",
    "x = PositionalEmbedding(sequence_length, vocab_size, embed_dim, name='positionalEmbeddingFrench')(decoder_inputs)\n",
    "x = TransformerDecoder(embed_dim, dense_dim, num_heads,  name='transformerDecoder')(x, encoder_outputs)\n",
    "x = layers.Dropout(0.5, name='dropout')(x)\n",
    "decoder_outputs = layers.Dense(vocab_size, activation=\"softmax\", name='decoder_outputs')(x)\n",
    "transformer = keras.Model([encoder_inputs, decoder_inputs], decoder_outputs)"
   ]
  },
  {
   "cell_type": "markdown",
   "metadata": {
    "colab_type": "text"
   },
   "source": [
    "**Training the sequence-to-sequence Transformer**"
   ]
  },
  {
   "cell_type": "code",
   "execution_count": 15,
   "metadata": {
    "colab_type": "code",
    "tags": []
   },
   "outputs": [
    {
     "name": "stdout",
     "output_type": "stream",
     "text": [
      "Epoch 1/15\n",
      "1508/1508 [==============================] - 91s 58ms/step - loss: 0.1631 - accuracy: 0.9189 - val_loss: 0.0359 - val_accuracy: 0.9772\n",
      "Epoch 2/15\n",
      "1508/1508 [==============================] - 88s 58ms/step - loss: 0.0382 - accuracy: 0.9772 - val_loss: 0.0284 - val_accuracy: 0.9829\n",
      "Epoch 3/15\n",
      "1508/1508 [==============================] - 89s 59ms/step - loss: 0.0298 - accuracy: 0.9825 - val_loss: 0.0283 - val_accuracy: 0.9825\n",
      "Epoch 4/15\n",
      "1508/1508 [==============================] - 89s 59ms/step - loss: 0.0259 - accuracy: 0.9848 - val_loss: 0.0229 - val_accuracy: 0.9867\n",
      "Epoch 5/15\n",
      "1508/1508 [==============================] - 89s 59ms/step - loss: 0.0225 - accuracy: 0.9868 - val_loss: 0.0208 - val_accuracy: 0.9877\n",
      "Epoch 6/15\n",
      "1508/1508 [==============================] - 89s 59ms/step - loss: 0.0200 - accuracy: 0.9883 - val_loss: 0.0179 - val_accuracy: 0.9896\n",
      "Epoch 7/15\n",
      "1508/1508 [==============================] - 89s 59ms/step - loss: 0.0175 - accuracy: 0.9897 - val_loss: 0.0157 - val_accuracy: 0.9911\n",
      "Epoch 8/15\n",
      "1508/1508 [==============================] - 89s 59ms/step - loss: 0.0161 - accuracy: 0.9907 - val_loss: 0.0139 - val_accuracy: 0.9919\n",
      "Epoch 9/15\n",
      "1508/1508 [==============================] - 90s 60ms/step - loss: 0.0146 - accuracy: 0.9915 - val_loss: 0.0133 - val_accuracy: 0.9923\n",
      "Epoch 10/15\n",
      "1508/1508 [==============================] - 89s 59ms/step - loss: 0.0134 - accuracy: 0.9922 - val_loss: 0.0131 - val_accuracy: 0.9924\n",
      "Epoch 11/15\n",
      "1508/1508 [==============================] - 89s 59ms/step - loss: 0.0124 - accuracy: 0.9927 - val_loss: 0.0132 - val_accuracy: 0.9926\n",
      "Epoch 12/15\n",
      "1508/1508 [==============================] - 89s 59ms/step - loss: 0.0117 - accuracy: 0.9931 - val_loss: 0.0124 - val_accuracy: 0.9931\n",
      "Epoch 13/15\n",
      "1508/1508 [==============================] - 90s 59ms/step - loss: 0.0111 - accuracy: 0.9936 - val_loss: 0.0118 - val_accuracy: 0.9933\n",
      "Epoch 14/15\n",
      "1508/1508 [==============================] - 89s 59ms/step - loss: 0.0105 - accuracy: 0.9939 - val_loss: 0.0117 - val_accuracy: 0.9935\n",
      "Epoch 15/15\n",
      "1508/1508 [==============================] - 89s 59ms/step - loss: 0.0099 - accuracy: 0.9942 - val_loss: 0.0113 - val_accuracy: 0.9935\n"
     ]
    },
    {
     "data": {
      "text/plain": [
       "<keras.callbacks.History at 0x16955187520>"
      ]
     },
     "execution_count": 15,
     "metadata": {},
     "output_type": "execute_result"
    }
   ],
   "source": [
    "transformer.compile(\n",
    "    optimizer=\"rmsprop\",\n",
    "    loss=\"sparse_categorical_crossentropy\",\n",
    "    metrics=[\"accuracy\"])\n",
    "stop_early = keras.callbacks.EarlyStopping(monitor='val_loss', patience=3)\n",
    "transformer.fit(train_ds, epochs=15, validation_data=val_ds, callbacks=[stop_early])"
   ]
  },
  {
   "cell_type": "markdown",
   "metadata": {
    "colab_type": "text"
   },
   "source": [
    "**Saving of the trained Transformer model**"
   ]
  },
  {
   "cell_type": "code",
   "execution_count": 21,
   "metadata": {
    "tags": []
   },
   "outputs": [],
   "source": [
    "for i in range(len(transformer.weights)):\n",
    "    transformer.weights[i]._handle_name = transformer.weights[i].name + \"_\" + str(i)\n",
    "    \n",
    "transformer.save(\"../data/transformer-fra-en-model.h5\", include_optimizer=False)\n",
    "transformer.save_weights(\"../data/transformer-fra-en-model.weights.h5\")\n"
   ]
  },
  {
   "cell_type": "markdown",
   "metadata": {
    "colab_type": "text"
   },
   "source": [
    "**Translating new sentences with our Transformer model**"
   ]
  },
  {
   "cell_type": "code",
   "execution_count": 17,
   "metadata": {
    "colab_type": "code",
    "tags": []
   },
   "outputs": [
    {
     "name": "stdout",
     "output_type": "stream",
     "text": [
      "-\n",
      "EN   california is usually nice during september , but it is never hot in may .\n",
      "FR   californie est généralement agréable en septembre  mais il est jamais chaude en mai \n",
      "FR-> californie est généralement agréable en septembre mais il est jamais chaude en mai\n",
      "-\n",
      "EN   india is never wonderful during winter , and it is never beautiful in july .\n",
      "FR   l  inde est jamais merveilleux pendant l  hiver  et il est jamais beau en juillet \n",
      "FR-> l inde est jamais merveilleux pendant l hiver et il est jamais beau en juillet\n",
      "-\n",
      "EN   paris is usually hot during fall , and it is sometimes wet in october .\n",
      "FR   paris est généralement chaud a l automne  et il est parfois humide en octobre \n",
      "FR-> paris est généralement chaud au cours de l automne et il est parfois humide en octobre\n",
      "-\n",
      "EN   california is never cold during november , but it is usually beautiful in may .\n",
      "FR   californie ne fait jamais froid au mois de novembre  mais il est généralement beau en mai \n",
      "FR-> californie ne fait jamais froid au mois de novembre mais il est généralement beau en mai\n",
      "-\n",
      "EN   he is driving a rusty green automobile .\n",
      "FR   il est au volant d  une voiture verte rouillée \n",
      "FR-> il est au volant d une voiture verte rouillée\n",
      "-\n",
      "EN   india is never hot during summer , but it is sometimes relaxing in december .\n",
      "FR   l  inde est jamais chaude pendant l  été  mais il est parfois relaxant en décembre \n",
      "FR-> l inde est jamais chaude pendant l été mais il est parfois relaxant en décembre\n",
      "-\n",
      "EN   he dislikes grapefruit , lemons , and mangoes .\n",
      "FR   il n aime pamplemousse  citrons  et les mangues \n",
      "FR-> il naime pamplemousse citrons et les mangues\n",
      "-\n",
      "EN   the mango is his most loved fruit , but the orange is our most loved .\n",
      "FR   la mangue est son fruit le plus aimé  mais l orange est notre plus aimé \n",
      "FR-> la mangue est son fruit le plus aimé mais lorange est notre plus aimé\n",
      "-\n",
      "EN   california is sometimes beautiful during autumn , and it is busy in january .\n",
      "FR   californie est parfois belle en automne  et il est occupé en janvier \n",
      "FR-> californie est parfois belle en automne et il est occupé en janvier\n",
      "-\n",
      "EN   india is sometimes busy during fall , but it is nice in august .\n",
      "FR   l  inde est parfois occupé pendant l  automne  mais il est agréable en août \n",
      "FR-> l inde est parfois occupé a lautomne mais il est agréable en août\n",
      "-\n",
      "EN   china is snowy during winter , and it is never mild in january .\n",
      "FR   chine est enneigée en hiver  et il est jamais doux en janvier \n",
      "FR-> chine est enneigée en hiver et il est jamais doux en janvier\n",
      "-\n",
      "EN   he likes limes , grapefruit , and pears .\n",
      "FR   il aime le pamplemousse  citrons verts  et les poires \n",
      "FR-> il aime citrons verts le pamplemousse et les poires\n",
      "-\n",
      "EN   france is nice during august , and it is wet in september .\n",
      "FR   la france est belle au mois d  août  et il est humide en septembre \n",
      "FR-> la france est belle au mois d août et il est humide en septembre\n",
      "-\n",
      "EN   india is usually chilly during september , but it is usually busy in april .\n",
      "FR   l  inde est généralement froid au mois de septembre  mais il est généralement occupé en avril \n",
      "FR-> l inde est généralement froid en septembre mais il est généralement occupé en avril\n",
      "-\n",
      "EN   china is snowy during january , and it is busy in july .\n",
      "FR   chine est la neige en janvier  et il est occupé en juillet \n",
      "FR-> chine est la neige en janvier et il est occupé en juillet\n",
      "-\n",
      "EN   they like strawberries , bananas , and lemons .\n",
      "FR   ils aiment les fraises  les bananes et les citrons \n",
      "FR-> ils aiment les fraises les bananes et les citrons\n",
      "-\n",
      "EN   india is never wonderful during july , but it is usually freezing in summer .\n",
      "FR   l  inde est jamais merveilleux en juillet  mais il gèle habituellement en été \n",
      "FR-> l inde est jamais merveilleux en juillet mais il gèle habituellement en été\n",
      "-\n",
      "EN   the pear is your most loved fruit , but the lemon is his most loved .\n",
      "FR   la poire est votre fruit le plus aimé  mais le citron est le plus aimé \n",
      "FR-> la poire est votre fruit le plus aimé mais le citron est le plus aimé\n",
      "-\n",
      "EN   she might go to new jersey next november .\n",
      "FR   elle pourrait aller a new jersey en novembre prochain \n",
      "FR-> elle pourrait aller a new jersey en novembre prochain\n",
      "-\n",
      "EN   the apple is his most loved fruit , but the banana is her most loved .\n",
      "FR   la pomme est son fruit le plus aimé  mais la banane est la plus aimée \n",
      "FR-> la pomme est son fruit le plus cher mais la banane est la plus aimée\n"
     ]
    }
   ],
   "source": [
    "import numpy as np\n",
    "fra_vocab = target_vectorization.get_vocabulary()\n",
    "fra_index_lookup = dict(zip(range(len(fra_vocab)), fra_vocab))\n",
    "max_decoded_sentence_length = 30\n",
    "\n",
    "def decode_sequence_Transformer(input_sentence):\n",
    "    tokenized_input_sentence = source_vectorization([input_sentence])\n",
    "    decoded_sentence = \"[start]\"\n",
    "    for i in range(max_decoded_sentence_length):\n",
    "        tokenized_target_sentence = target_vectorization(\n",
    "            [decoded_sentence])[:, :-1]\n",
    "        predictions = transformer(\n",
    "            [tokenized_input_sentence, tokenized_target_sentence])\n",
    "        sampled_token_index = np.argmax(predictions[0, i, :])\n",
    "        sampled_token = fra_index_lookup[sampled_token_index]\n",
    "        decoded_sentence += \" \" + sampled_token\n",
    "        if sampled_token == \"[end]\":\n",
    "            break\n",
    "    return decoded_sentence[8:-6]\n",
    "\n",
    "test_eng_texts = [pair[0] for pair in test_pairs]\n",
    "test_fra_texts = [pair[1][8:-6] for pair in test_pairs]\n",
    "\n",
    "# Removing Punctuations (we keep the . character)\n",
    "REPLACEMENTS = [(\".\", \"\"),\n",
    "                (\",\", \"\"),\n",
    "                (\";\", \"\"),\n",
    "                (\":\", \"\"),\n",
    "                (\"?\", \"\"),\n",
    "                ('\"', \"\"),\n",
    "                (\"-\", \" \"),\n",
    "                (\"'\", \" \")\n",
    "               ]\n",
    "for i in range(len(test_fra_texts)):\n",
    "    for old, new in REPLACEMENTS:\n",
    "        test_fra_texts[i] = test_fra_texts[i].replace(old, new)\n",
    "\n",
    "for _ in range(20):\n",
    "    n = random.randrange(num_val_samples)\n",
    "    input_sentence = test_eng_texts[n]\n",
    "    translation = test_fra_texts[n]\n",
    "    print(\"-\")\n",
    "    print(\"EN  \",input_sentence)\n",
    "    print(\"FR  \",translation)\n",
    "    print(\"FR->\",decode_sequence_Transformer(input_sentence))"
   ]
  },
  {
   "cell_type": "markdown",
   "metadata": {},
   "source": [
    "<br></br>\n",
    "**You turn to play:** Enter a sentence.."
   ]
  },
  {
   "cell_type": "code",
   "execution_count": 18,
   "metadata": {
    "tags": []
   },
   "outputs": [
    {
     "name": "stdout",
     "output_type": "stream",
     "text": [
      "FR-> la pomme est son fruit le plus cher mais la banane est la plus aimée\n"
     ]
    }
   ],
   "source": [
    "entence = \"india is never cold during winter , but it is beautiful in autumn\"\n",
    "print(\"FR->\",decode_sequence_Transformer(input_sentence))"
   ]
  },
  {
   "cell_type": "markdown",
   "metadata": {},
   "source": [
    "**Qualité de traduction seq2seq sur le corpus Test par les 2 méthodes (300 premieres phrases)**"
   ]
  },
  {
   "cell_type": "code",
   "execution_count": 19,
   "metadata": {
    "tags": []
   },
   "outputs": [
    {
     "name": "stdout",
     "output_type": "stream",
     "text": [
      "Score Bleu de la traduction du corpus Test par la méthode RNN = 93.5%\n",
      " -> durée de traduction et de calcul du score : 268  secondes\n",
      "\n",
      "Score Bleu de la traduction du corpus Test par la méthode Transformer = 92.6%\n",
      " -> durée de traduction et de calcul du score : 126  secondes\n",
      "\n"
     ]
    }
   ],
   "source": [
    "from sacrebleu import sentence_bleu, corpus_bleu\n",
    "\n",
    "# Taille du corpus d'évaluation\n",
    "n = 300\n",
    "\n",
    "def corpus_translation(method):\n",
    "    translation = []\n",
    "    test_eng_texts = [pair[0] for pair in test_pairs]\n",
    "    for txt in test_eng_texts[:n]:\n",
    "        if method == 'RNN':\n",
    "            translation.append(decode_sequence_RNN(txt))\n",
    "        else:\n",
    "            translation.append(decode_sequence_Transformer(txt))\n",
    "    return translation\n",
    "\n",
    "if bleu_score_to_do:\n",
    "    tps1 = time.time()\n",
    "    tr_RNN = corpus_translation('RNN')\n",
    "    translation_quality_RNN = corpus_bleu(tr_RNN, [test_fra_texts[:n]]).score\n",
    "    print(f'Score Bleu de la traduction du corpus Test par la méthode RNN = {translation_quality_RNN:.1f}%')\n",
    "    tps2 = time.time()\n",
    "    print(\" -> durée de traduction et de calcul du score :\",int(tps2-tps1),\" secondes\\n\")\n",
    "    tr_Transformer = corpus_translation('Transformer')\n",
    "    translation_quality_Transformer = corpus_bleu(tr_Transformer, [test_fra_texts[:n]]).score\n",
    "    print(f'Score Bleu de la traduction du corpus Test par la méthode Transformer = {translation_quality_Transformer:.1f}%')\n",
    "    tps3 = time.time()\n",
    "    print(\" -> durée de traduction et de calcul du score :\",int(tps3-tps2),\" secondes\\n\")\n"
   ]
  }
 ],
 "metadata": {
  "colab": {
   "collapsed_sections": [],
   "name": "chapter11_part04_sequence-to-sequence-learning.i",
   "private_outputs": false,
   "provenance": [],
   "toc_visible": true
  },
  "kernelspec": {
   "display_name": "Python 3 (ipykernel)",
   "language": "python",
   "name": "python3"
  },
  "language_info": {
   "codemirror_mode": {
    "name": "ipython",
    "version": 3
   },
   "file_extension": ".py",
   "mimetype": "text/x-python",
   "name": "python",
   "nbconvert_exporter": "python",
   "pygments_lexer": "ipython3",
   "version": "3.9.7"
  }
 },
 "nbformat": 4,
 "nbformat_minor": 4
}
