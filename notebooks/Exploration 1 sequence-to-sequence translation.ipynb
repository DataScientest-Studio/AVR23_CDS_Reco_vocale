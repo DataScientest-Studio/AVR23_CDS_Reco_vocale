{
 "cells": [
  {
   "cell_type": "markdown",
   "metadata": {
    "colab_type": "text"
   },
   "source": [
    "## **Sequence-to-sequence learning : EN to FR translation** - revision 01"
   ]
  },
  {
   "cell_type": "markdown",
   "metadata": {
    "colab_type": "text"
   },
   "source": [
    "### **1. Small_vocab translation**"
   ]
  },
  {
   "cell_type": "code",
   "execution_count": 24,
   "metadata": {
    "tags": []
   },
   "outputs": [],
   "source": [
    "import os\n",
    "import time\n",
    "\n",
    "def load_data(path):\n",
    "\n",
    "    # Nombre maximum de lignes à renvoyer\n",
    "    max_lines = 140000\n",
    "    \n",
    "    input_file = os.path.join(path)\n",
    "    with open(input_file, \"r\",  encoding=\"utf-8\") as f:\n",
    "        data = f.read()\n",
    "        \n",
    "    # On convertit les majuscules en minulcule\n",
    "    data = data.lower()\n",
    "    \n",
    "    data = data.split('\\n')\n",
    "    return data[:min(len(data),max_lines)]\n",
    "\n",
    "# Indication de calculer le score Bleu\n",
    "bleu_score_to_do = True\n",
    "\n",
    "# Chargement des textes dans les 2 langues (max lignes = max_lines)\n",
    "txt_en = load_data('../data/small_vocab_en')\n",
    "txt_fr = load_data('../data/small_vocab_fr')\n",
    "\n",
    "text_pairs = []\n",
    "for line in range(len(txt_en)):\n",
    "    txt_fr[line]=txt_fr[line].replace('à', 'a')\n",
    "    text_pairs.append((txt_en[line], \"[start] \" + txt_fr[line] + \" [end]\" ))\n",
    "    "
   ]
  },
  {
   "cell_type": "code",
   "execution_count": 2,
   "metadata": {
    "colab_type": "code",
    "tags": []
   },
   "outputs": [
    {
     "name": "stdout",
     "output_type": "stream",
     "text": [
      "('he wants to go to paris next october .', '[start] il veut se rendre a paris en octobre prochain . [end]')\n"
     ]
    }
   ],
   "source": [
    "import random\n",
    "print(random.choice(text_pairs))"
   ]
  },
  {
   "cell_type": "code",
   "execution_count": 3,
   "metadata": {
    "colab_type": "code",
    "tags": []
   },
   "outputs": [],
   "source": [
    "import random\n",
    "random.shuffle(text_pairs)\n",
    "num_val_samples = int(0.15 * len(text_pairs))\n",
    "num_train_samples = len(text_pairs) - 2 * num_val_samples\n",
    "train_pairs = text_pairs[:num_train_samples]\n",
    "val_pairs = text_pairs[num_train_samples:num_train_samples + num_val_samples]\n",
    "test_pairs = text_pairs[num_train_samples + num_val_samples:]"
   ]
  },
  {
   "cell_type": "markdown",
   "metadata": {
    "colab_type": "text"
   },
   "source": [
    "**Vectorizing the English and French text pairs**"
   ]
  },
  {
   "cell_type": "code",
   "execution_count": 4,
   "metadata": {
    "colab_type": "code",
    "tags": []
   },
   "outputs": [],
   "source": [
    "import tensorflow as tf\n",
    "import string\n",
    "import re\n",
    "from tensorflow import keras\n",
    "from tensorflow.keras import layers\n",
    "\n",
    "strip_chars = string.punctuation + \"¿\"\n",
    "strip_chars = strip_chars.replace(\"[\", \"\")\n",
    "strip_chars = strip_chars.replace(\"]\", \"\")\n",
    "\n",
    "def custom_standardization(input_string):\n",
    "    lowercase = tf.strings.lower(input_string)\n",
    "    return tf.strings.regex_replace(\n",
    "        lowercase, f\"[{re.escape(strip_chars)}]\", \"\")\n",
    "\n",
    "def save_vocab(file_path, vocab):\n",
    "    with open(file_path, \"w\",  encoding=\"utf-8\" ) as file:\n",
    "        for word in vocab:\n",
    "            file.write(word+'\\n')\n",
    "    return\n",
    "\n",
    "vocab_size = 15000\n",
    "sequence_length = 30\n",
    "\n",
    "source_vectorization = layers.TextVectorization(\n",
    "    max_tokens=vocab_size,\n",
    "    output_mode=\"int\",\n",
    "    output_sequence_length=sequence_length,\n",
    ")\n",
    "target_vectorization = layers.TextVectorization(\n",
    "    max_tokens=vocab_size,\n",
    "    output_mode=\"int\",\n",
    "    output_sequence_length=sequence_length + 1,\n",
    "    standardize=custom_standardization,\n",
    ")\n",
    "train_english_texts = [pair[0] for pair in train_pairs]\n",
    "train_french_texts = [pair[1] for pair in train_pairs]\n",
    "source_vectorization.adapt(train_english_texts)\n",
    "target_vectorization.adapt(train_french_texts)\n",
    "\n",
    "save_vocab(\"data/eng_vocab.txt\" , source_vectorization.get_vocabulary()[2:])\n",
    "save_vocab(\"data/fra_vocab.txt\" , target_vectorization.get_vocabulary()[2:])\n"
   ]
  },
  {
   "cell_type": "markdown",
   "metadata": {
    "colab_type": "text"
   },
   "source": [
    "**Preparing datasets for the translation task**"
   ]
  },
  {
   "cell_type": "code",
   "execution_count": 5,
   "metadata": {
    "colab_type": "code",
    "tags": []
   },
   "outputs": [],
   "source": [
    "batch_size = 64\n",
    "\n",
    "def format_dataset(eng, fra):\n",
    "    eng = source_vectorization(eng)\n",
    "    fra = target_vectorization(fra)\n",
    "    return ({\n",
    "        \"english\": eng,\n",
    "        \"french\": fra[:, :-1],\n",
    "    }, fra[:, 1:])\n",
    "\n",
    "def make_dataset(pairs):\n",
    "    eng_texts, fra_texts = zip(*pairs)\n",
    "    eng_texts = list(eng_texts)\n",
    "    fra_texts = list(fra_texts)\n",
    "    dataset = tf.data.Dataset.from_tensor_slices((eng_texts, fra_texts))\n",
    "    dataset = dataset.batch(batch_size)\n",
    "    dataset = dataset.map(format_dataset, num_parallel_calls=4)\n",
    "    return dataset.shuffle(2048).prefetch(16).cache()\n",
    "\n",
    "train_ds = make_dataset(train_pairs)\n",
    "val_ds = make_dataset(val_pairs)"
   ]
  },
  {
   "cell_type": "code",
   "execution_count": 6,
   "metadata": {
    "colab_type": "code",
    "tags": []
   },
   "outputs": [
    {
     "name": "stdout",
     "output_type": "stream",
     "text": [
      "inputs['english'].shape: (64, 30)\n",
      "inputs['french'].shape: (64, 30)\n",
      "targets.shape: (64, 30)\n"
     ]
    }
   ],
   "source": [
    "for inputs, targets in train_ds.take(1):\n",
    "    print(f\"inputs['english'].shape: {inputs['english'].shape}\")\n",
    "    print(f\"inputs['french'].shape: {inputs['french'].shape}\")\n",
    "    print(f\"targets.shape: {targets.shape}\")"
   ]
  },
  {
   "cell_type": "markdown",
   "metadata": {
    "colab_type": "text"
   },
   "source": [
    "### **2. Sequence-to-sequence learning with RNNs**"
   ]
  },
  {
   "cell_type": "markdown",
   "metadata": {
    "colab_type": "text"
   },
   "source": [
    "**GRU-based encoder**"
   ]
  },
  {
   "cell_type": "code",
   "execution_count": 7,
   "metadata": {
    "colab_type": "code",
    "tags": []
   },
   "outputs": [],
   "source": [
    "from tensorflow import keras\n",
    "from tensorflow.keras import layers\n",
    "\n",
    "embed_dim = 256\n",
    "latent_dim = 1024\n",
    "\n",
    "source = keras.Input(shape=(None,), dtype=\"int64\", name=\"english\")\n",
    "x = layers.Embedding(vocab_size, embed_dim, mask_zero=True)(source)\n",
    "encoded_source = layers.Bidirectional(\n",
    "    layers.GRU(latent_dim), merge_mode=\"sum\")(x)"
   ]
  },
  {
   "cell_type": "markdown",
   "metadata": {
    "colab_type": "text"
   },
   "source": [
    "**GRU-based decoder and the end-to-end model**"
   ]
  },
  {
   "cell_type": "code",
   "execution_count": 8,
   "metadata": {
    "colab_type": "code",
    "tags": []
   },
   "outputs": [],
   "source": [
    "past_target = keras.Input(shape=(None,), dtype=\"int64\", name=\"french\")\n",
    "x = layers.Embedding(vocab_size, embed_dim, mask_zero=True)(past_target)\n",
    "decoder_gru = layers.GRU(latent_dim, return_sequences=True)\n",
    "x = decoder_gru(x, initial_state=encoded_source)\n",
    "x = layers.Dropout(0.5)(x)\n",
    "target_next_step = layers.Dense(vocab_size, activation=\"softmax\")(x)\n",
    "seq2seq_rnn = keras.Model([source, past_target], target_next_step)"
   ]
  },
  {
   "cell_type": "markdown",
   "metadata": {
    "colab_type": "text"
   },
   "source": [
    "**Training our recurrent sequence-to-sequence model**"
   ]
  },
  {
   "cell_type": "code",
   "execution_count": 9,
   "metadata": {
    "colab_type": "code",
    "tags": []
   },
   "outputs": [
    {
     "name": "stdout",
     "output_type": "stream",
     "text": [
      "Epoch 1/15\n",
      "1508/1508 [==============================] - 224s 130ms/step - loss: 0.2896 - accuracy: 0.8232 - val_loss: 0.0367 - val_accuracy: 0.9762\n",
      "Epoch 2/15\n",
      "1508/1508 [==============================] - 184s 122ms/step - loss: 0.0316 - accuracy: 0.9811 - val_loss: 0.0192 - val_accuracy: 0.9882\n",
      "Epoch 3/15\n",
      "1508/1508 [==============================] - 185s 123ms/step - loss: 0.0208 - accuracy: 0.9878 - val_loss: 0.0145 - val_accuracy: 0.9912\n",
      "Epoch 4/15\n",
      "1508/1508 [==============================] - 184s 122ms/step - loss: 0.0162 - accuracy: 0.9904 - val_loss: 0.0128 - val_accuracy: 0.9925\n",
      "Epoch 5/15\n",
      "1508/1508 [==============================] - 184s 122ms/step - loss: 0.0137 - accuracy: 0.9919 - val_loss: 0.0111 - val_accuracy: 0.9935\n",
      "Epoch 6/15\n",
      "1508/1508 [==============================] - 183s 121ms/step - loss: 0.0120 - accuracy: 0.9929 - val_loss: 0.0103 - val_accuracy: 0.9941\n",
      "Epoch 7/15\n",
      "1508/1508 [==============================] - 186s 123ms/step - loss: 0.0108 - accuracy: 0.9936 - val_loss: 0.0100 - val_accuracy: 0.9943\n",
      "Epoch 8/15\n",
      "1508/1508 [==============================] - 181s 120ms/step - loss: 0.0102 - accuracy: 0.9940 - val_loss: 0.0100 - val_accuracy: 0.9946\n",
      "Epoch 9/15\n",
      "1508/1508 [==============================] - 186s 123ms/step - loss: 0.0094 - accuracy: 0.9944 - val_loss: 0.0096 - val_accuracy: 0.9947\n",
      "Epoch 10/15\n",
      "1508/1508 [==============================] - 184s 122ms/step - loss: 0.0090 - accuracy: 0.9947 - val_loss: 0.0093 - val_accuracy: 0.9948\n",
      "Epoch 11/15\n",
      "1508/1508 [==============================] - 190s 126ms/step - loss: 0.0088 - accuracy: 0.9947 - val_loss: 0.0091 - val_accuracy: 0.9952\n",
      "Epoch 12/15\n",
      "1508/1508 [==============================] - 190s 126ms/step - loss: 0.0086 - accuracy: 0.9949 - val_loss: 0.0094 - val_accuracy: 0.9951\n",
      "Epoch 13/15\n",
      "1508/1508 [==============================] - 188s 124ms/step - loss: 0.0085 - accuracy: 0.9948 - val_loss: 0.0093 - val_accuracy: 0.9951\n",
      "Epoch 14/15\n",
      "1508/1508 [==============================] - 183s 122ms/step - loss: 0.0082 - accuracy: 0.9950 - val_loss: 0.0089 - val_accuracy: 0.9954\n",
      "Epoch 15/15\n",
      "1508/1508 [==============================] - 185s 123ms/step - loss: 0.0082 - accuracy: 0.9951 - val_loss: 0.0088 - val_accuracy: 0.9954\n"
     ]
    },
    {
     "data": {
      "text/plain": [
       "<keras.callbacks.History at 0x1dbcead1ee0>"
      ]
     },
     "execution_count": 9,
     "metadata": {},
     "output_type": "execute_result"
    }
   ],
   "source": [
    "seq2seq_rnn.compile(\n",
    "    optimizer=\"rmsprop\",\n",
    "    loss=\"sparse_categorical_crossentropy\",\n",
    "    metrics=[\"accuracy\"])\n",
    "stop_early = keras.callbacks.EarlyStopping(monitor='val_loss', patience=3)\n",
    "seq2seq_rnn.fit(train_ds, epochs=15, validation_data=val_ds, callbacks=[stop_early])"
   ]
  },
  {
   "cell_type": "markdown",
   "metadata": {
    "colab_type": "text",
    "tags": []
   },
   "source": [
    "**Saving of the trained RNN model**"
   ]
  },
  {
   "cell_type": "code",
   "execution_count": 10,
   "metadata": {
    "tags": []
   },
   "outputs": [],
   "source": [
    "seq2seq_rnn.save(\"../data/seq2seq_rnn-fra-en-model.h5\")"
   ]
  },
  {
   "cell_type": "markdown",
   "metadata": {
    "colab_type": "text"
   },
   "source": [
    "**Translating new sentences with our RNN encoder and decoder**"
   ]
  },
  {
   "cell_type": "code",
   "execution_count": 21,
   "metadata": {
    "colab_type": "code",
    "tags": []
   },
   "outputs": [
    {
     "name": "stdout",
     "output_type": "stream",
     "text": [
      "-\n",
      "EN   france is usually cold during july , but it is never mild in autumn .\n",
      "FR-> la france est généralement froid en juillet mais il est jamais doux a l automne\n",
      "-\n",
      "EN   india is usually dry during january , and it is never snowy in september .\n",
      "FR-> l inde est généralement sec en janvier et il est jamais neigeux en septembre\n",
      "-\n",
      "EN   california is sometimes wonderful during july , and it is relaxing in june .\n",
      "FR-> californie est parfois merveilleux en juillet et il est relaxant en juin\n",
      "-\n",
      "EN   the pear is her most loved fruit , but the grape is his most loved .\n",
      "FR-> la poire est son fruit le plus aimé mais le raisin est le plus aimé\n",
      "-\n",
      "EN   france is chilly during november , and it is snowy in fall .\n",
      "FR-> la france est froid en novembre et il est neigeux a l automne\n",
      "-\n",
      "EN   new jersey is cold during autumn , but it is freezing in may .\n",
      "FR-> new jersey est froid pendant l automne mais il gèle en mai\n",
      "-\n",
      "EN   france is never rainy during march , and it is hot in december .\n",
      "FR-> la france est jamais pluvieux en mars et il est chaud en décembre\n",
      "-\n",
      "EN   the apple is my least liked fruit , but the peach is his least liked .\n",
      "FR-> la pomme est mon moins aimé des fruits mais la pêche est son moins aimé\n",
      "-\n",
      "EN   china is never nice during december , and it is never beautiful in april .\n",
      "FR-> chine est jamais agréable en décembre et il est jamais beau en avril\n",
      "-\n",
      "EN   china is hot during spring , and it is wonderful in august .\n",
      "FR-> chine est chaud au printemps et il est merveilleux en août\n",
      "-\n",
      "EN   paris is never freezing during april , but it is usually rainy in february .\n",
      "FR-> paris est jamais le gel en avril mais il est généralement pluvieux en février\n",
      "-\n",
      "EN   california is never pleasant during spring , and it is warm in summer .\n",
      "FR-> california est jamais agréable au printemps et il est chaud en été\n",
      "-\n",
      "EN   the united states is usually snowy during august , and it is sometimes wonderful in march .\n",
      "FR-> les étatsunis est généralement enneigée au mois d août et il est parfois merveilleux en mars\n",
      "-\n",
      "EN   california is sometimes rainy during september , and it is sometimes busy in spring .\n",
      "FR-> californie est parfois pluvieux en septembre et il est parfois occupé au printemps\n",
      "-\n",
      "EN   her least favorite fruit is the grape , but our least favorite is the strawberry.\n",
      "FR-> son fruit préféré est moins le raisin mais notre moins préféré est la fraise\n",
      "-\n",
      "EN   california is sometimes cold during february , and it is hot in winter .\n",
      "FR-> californie est parfois froid en février et il est chaud en hiver\n",
      "-\n",
      "EN   france is usually cold during autumn , and it is usually quiet in november .\n",
      "FR-> la france est généralement froid pendant l automne et il est généralement calme en novembre\n",
      "-\n",
      "EN   california is usually rainy during may , and it is sometimes cold in fall .\n",
      "FR-> californie est généralement pluvieux au mois de mai et il est parfois froid a l automne\n",
      "-\n",
      "EN   france is never hot during summer , and it is relaxing in spring .\n",
      "FR-> la france est jamais chaude pendant l été et il est relaxant au printemps\n",
      "-\n",
      "EN   her least liked fruit is the orange , but his least liked is the grapefruit .\n",
      "FR-> son fruit est moins aimé lorange mais son moins aimé est le pamplemousse\n"
     ]
    }
   ],
   "source": [
    "import numpy as np\n",
    "fra_vocab = target_vectorization.get_vocabulary()\n",
    "fra_index_lookup = dict(zip(range(len(fra_vocab)), fra_vocab))\n",
    "max_decoded_sentence_length = 30\n",
    "\n",
    "def decode_sequence_RNN(input_sentence):\n",
    "    tokenized_input_sentence = source_vectorization([input_sentence])\n",
    "    decoded_sentence = \"[start]\"\n",
    "    for i in range(max_decoded_sentence_length):\n",
    "        tokenized_target_sentence = target_vectorization([decoded_sentence])\n",
    "        next_token_predictions = seq2seq_rnn.predict(\n",
    "            [tokenized_input_sentence, tokenized_target_sentence], verbose=0)\n",
    "        sampled_token_index = np.argmax(next_token_predictions[0, i, :])\n",
    "        sampled_token = fra_index_lookup[sampled_token_index]\n",
    "        decoded_sentence += \" \" + sampled_token\n",
    "        if sampled_token == \"[end]\":\n",
    "            break\n",
    "    return decoded_sentence[8:-6]\n",
    "\n",
    "test_eng_texts = [pair[0] for pair in test_pairs]\n",
    "for _ in range(20):\n",
    "    input_sentence = random.choice(test_eng_texts)\n",
    "    print(\"-\")\n",
    "    print(\"EN  \",input_sentence)\n",
    "    print(\"FR->\",decode_sequence_RNN(input_sentence))"
   ]
  },
  {
   "cell_type": "markdown",
   "metadata": {
    "colab_type": "text"
   },
   "source": [
    "### **3. Sequence-to-sequence learning with Transformer**"
   ]
  },
  {
   "cell_type": "markdown",
   "metadata": {
    "colab_type": "text"
   },
   "source": [
    "#### The Transformer decoder"
   ]
  },
  {
   "cell_type": "markdown",
   "metadata": {
    "colab_type": "text"
   },
   "source": [
    "**The `TransformerDecoder`**"
   ]
  },
  {
   "cell_type": "code",
   "execution_count": 12,
   "metadata": {
    "colab_type": "code",
    "tags": []
   },
   "outputs": [],
   "source": [
    "class TransformerDecoder(layers.Layer):\n",
    "    def __init__(self, embed_dim, dense_dim, num_heads, **kwargs):\n",
    "        super().__init__(**kwargs)\n",
    "        self.embed_dim = embed_dim\n",
    "        self.dense_dim = dense_dim\n",
    "        self.num_heads = num_heads\n",
    "        self.attention_1 = layers.MultiHeadAttention(\n",
    "            num_heads=num_heads, key_dim=embed_dim)\n",
    "        self.attention_2 = layers.MultiHeadAttention(\n",
    "            num_heads=num_heads, key_dim=embed_dim)\n",
    "        self.dense_proj = keras.Sequential(\n",
    "            [layers.Dense(dense_dim, activation=\"relu\"),\n",
    "             layers.Dense(embed_dim),]\n",
    "        )\n",
    "        self.layernorm_1 = layers.LayerNormalization()\n",
    "        self.layernorm_2 = layers.LayerNormalization()\n",
    "        self.layernorm_3 = layers.LayerNormalization()\n",
    "        self.supports_masking = True\n",
    "\n",
    "    def get_config(self):\n",
    "        config = super().get_config()\n",
    "        config.update({\n",
    "            \"embed_dim\": self.embed_dim,\n",
    "            \"num_heads\": self.num_heads,\n",
    "            \"dense_dim\": self.dense_dim,\n",
    "        })\n",
    "        return config\n",
    "\n",
    "    def get_causal_attention_mask(self, inputs):\n",
    "        input_shape = tf.shape(inputs)\n",
    "        batch_size, sequence_length = input_shape[0], input_shape[1]\n",
    "        i = tf.range(sequence_length)[:, tf.newaxis]\n",
    "        j = tf.range(sequence_length)\n",
    "        mask = tf.cast(i >= j, dtype=\"int32\")\n",
    "        mask = tf.reshape(mask, (1, input_shape[1], input_shape[1]))\n",
    "        mult = tf.concat(\n",
    "            [tf.expand_dims(batch_size, -1),\n",
    "             tf.constant([1, 1], dtype=tf.int32)], axis=0)\n",
    "        return tf.tile(mask, mult)\n",
    "\n",
    "    def call(self, inputs, encoder_outputs, mask=None):\n",
    "        causal_mask = self.get_causal_attention_mask(inputs)\n",
    "        if mask is not None:\n",
    "            padding_mask = tf.cast(\n",
    "                mask[:, tf.newaxis, :], dtype=\"int32\")\n",
    "            padding_mask = tf.minimum(padding_mask, causal_mask)\n",
    "        else:\n",
    "            padding_mask = mask\n",
    "        attention_output_1 = self.attention_1(\n",
    "            query=inputs,\n",
    "            value=inputs,\n",
    "            key=inputs,\n",
    "            attention_mask=causal_mask)\n",
    "        attention_output_1 = self.layernorm_1(inputs + attention_output_1)\n",
    "        attention_output_2 = self.attention_2(\n",
    "            query=attention_output_1,\n",
    "            value=encoder_outputs,\n",
    "            key=encoder_outputs,\n",
    "            attention_mask=padding_mask,\n",
    "        )\n",
    "        attention_output_2 = self.layernorm_2(\n",
    "            attention_output_1 + attention_output_2)\n",
    "        proj_output = self.dense_proj(attention_output_2)\n",
    "        return self.layernorm_3(attention_output_2 + proj_output)"
   ]
  },
  {
   "cell_type": "markdown",
   "metadata": {
    "colab_type": "text"
   },
   "source": [
    "#### Putting it all together: A Transformer for machine translation"
   ]
  },
  {
   "cell_type": "markdown",
   "metadata": {
    "colab_type": "text"
   },
   "source": [
    "**PositionalEmbedding layer**"
   ]
  },
  {
   "cell_type": "code",
   "execution_count": 13,
   "metadata": {
    "colab_type": "code",
    "tags": []
   },
   "outputs": [],
   "source": [
    "class PositionalEmbedding(layers.Layer):\n",
    "    def __init__(self, sequence_length, input_dim, output_dim, **kwargs):\n",
    "        super().__init__(**kwargs)\n",
    "        self.token_embeddings = layers.Embedding(\n",
    "            input_dim=input_dim, output_dim=output_dim)\n",
    "        self.position_embeddings = layers.Embedding(\n",
    "            input_dim=sequence_length, output_dim=output_dim)\n",
    "        self.sequence_length = sequence_length\n",
    "        self.input_dim = input_dim\n",
    "        self.output_dim = output_dim\n",
    "\n",
    "    def call(self, inputs):\n",
    "        length = tf.shape(inputs)[-1]\n",
    "        positions = tf.range(start=0, limit=length, delta=1)\n",
    "        embedded_tokens = self.token_embeddings(inputs)\n",
    "        embedded_positions = self.position_embeddings(positions)\n",
    "        return embedded_tokens + embedded_positions\n",
    "\n",
    "    def compute_mask(self, inputs, mask=None):\n",
    "        return tf.math.not_equal(inputs, 0)\n",
    "\n",
    "    def get_config(self):\n",
    "        config = super(PositionalEmbedding, self).get_config()\n",
    "        config.update({\n",
    "            \"output_dim\": self.output_dim,\n",
    "            \"sequence_length\": self.sequence_length,\n",
    "            \"input_dim\": self.input_dim,\n",
    "        })\n",
    "        return config"
   ]
  },
  {
   "cell_type": "markdown",
   "metadata": {
    "colab_type": "text"
   },
   "source": [
    "**End-to-end Transformer**"
   ]
  },
  {
   "cell_type": "code",
   "execution_count": 14,
   "metadata": {
    "colab_type": "code",
    "tags": []
   },
   "outputs": [
    {
     "name": "stdout",
     "output_type": "stream",
     "text": [
      "Using TensorFlow backend\n"
     ]
    }
   ],
   "source": [
    "from keras_nlp.layers import TransformerEncoder\n",
    "embed_dim = 256\n",
    "dense_dim = 2048\n",
    "num_heads = 8\n",
    "\n",
    "encoder_inputs = keras.Input(shape=(None,), dtype=\"int64\", name=\"english\")\n",
    "x = PositionalEmbedding(sequence_length, vocab_size, embed_dim, name='positionalEmbeddingEnglish')(encoder_inputs)\n",
    "encoder_outputs = TransformerEncoder(dense_dim, num_heads, name='encoder_outputs')(x)\n",
    "\n",
    "decoder_inputs = keras.Input(shape=(None,), dtype=\"int64\", name=\"french\")\n",
    "x = PositionalEmbedding(sequence_length, vocab_size, embed_dim, name='positionalEmbeddingFrench')(decoder_inputs)\n",
    "x = TransformerDecoder(embed_dim, dense_dim, num_heads,  name='transformerDecoder')(x, encoder_outputs)\n",
    "x = layers.Dropout(0.5, name='dropout')(x)\n",
    "decoder_outputs = layers.Dense(vocab_size, activation=\"softmax\", name='decoder_outputs')(x)\n",
    "transformer = keras.Model([encoder_inputs, decoder_inputs], decoder_outputs)"
   ]
  },
  {
   "cell_type": "markdown",
   "metadata": {
    "colab_type": "text"
   },
   "source": [
    "**Training the sequence-to-sequence Transformer**"
   ]
  },
  {
   "cell_type": "code",
   "execution_count": 15,
   "metadata": {
    "colab_type": "code",
    "tags": []
   },
   "outputs": [
    {
     "name": "stdout",
     "output_type": "stream",
     "text": [
      "Epoch 1/15\n",
      "1508/1508 [==============================] - 157s 98ms/step - loss: 0.1585 - accuracy: 0.9220 - val_loss: 0.0370 - val_accuracy: 0.9752\n",
      "Epoch 2/15\n",
      "1508/1508 [==============================] - 145s 96ms/step - loss: 0.0382 - accuracy: 0.9771 - val_loss: 0.0292 - val_accuracy: 0.9816\n",
      "Epoch 3/15\n",
      "1508/1508 [==============================] - 135s 90ms/step - loss: 0.0307 - accuracy: 0.9819 - val_loss: 0.0290 - val_accuracy: 0.9819\n",
      "Epoch 4/15\n",
      "1508/1508 [==============================] - 140s 93ms/step - loss: 0.0263 - accuracy: 0.9846 - val_loss: 0.0196 - val_accuracy: 0.9878\n",
      "Epoch 5/15\n",
      "1508/1508 [==============================] - 145s 96ms/step - loss: 0.0228 - accuracy: 0.9866 - val_loss: 0.0218 - val_accuracy: 0.9866\n",
      "Epoch 6/15\n",
      "1508/1508 [==============================] - 145s 96ms/step - loss: 0.0202 - accuracy: 0.9881 - val_loss: 0.0198 - val_accuracy: 0.9882\n",
      "Epoch 7/15\n",
      "1508/1508 [==============================] - 145s 96ms/step - loss: 0.0178 - accuracy: 0.9896 - val_loss: 0.0164 - val_accuracy: 0.9902\n",
      "Epoch 8/15\n",
      "1508/1508 [==============================] - 146s 97ms/step - loss: 0.0159 - accuracy: 0.9907 - val_loss: 0.0177 - val_accuracy: 0.9897\n",
      "Epoch 9/15\n",
      "1508/1508 [==============================] - 145s 96ms/step - loss: 0.0147 - accuracy: 0.9915 - val_loss: 0.0159 - val_accuracy: 0.9908\n",
      "Epoch 10/15\n",
      "1508/1508 [==============================] - 146s 97ms/step - loss: 0.0136 - accuracy: 0.9921 - val_loss: 0.0139 - val_accuracy: 0.9917\n",
      "Epoch 11/15\n",
      "1508/1508 [==============================] - 146s 97ms/step - loss: 0.0126 - accuracy: 0.9926 - val_loss: 0.0138 - val_accuracy: 0.9920\n",
      "Epoch 12/15\n",
      "1508/1508 [==============================] - 144s 95ms/step - loss: 0.0119 - accuracy: 0.9931 - val_loss: 0.0132 - val_accuracy: 0.9920\n",
      "Epoch 13/15\n",
      "1508/1508 [==============================] - 143s 95ms/step - loss: 0.0110 - accuracy: 0.9936 - val_loss: 0.0127 - val_accuracy: 0.9927\n",
      "Epoch 14/15\n",
      "1508/1508 [==============================] - 144s 95ms/step - loss: 0.0105 - accuracy: 0.9938 - val_loss: 0.0108 - val_accuracy: 0.9939\n",
      "Epoch 15/15\n",
      "1508/1508 [==============================] - 146s 97ms/step - loss: 0.0100 - accuracy: 0.9941 - val_loss: 0.0120 - val_accuracy: 0.9932\n"
     ]
    },
    {
     "data": {
      "text/plain": [
       "<keras.callbacks.History at 0x1dd0c1da340>"
      ]
     },
     "execution_count": 15,
     "metadata": {},
     "output_type": "execute_result"
    }
   ],
   "source": [
    "transformer.compile(\n",
    "    optimizer=\"rmsprop\",\n",
    "    loss=\"sparse_categorical_crossentropy\",\n",
    "    metrics=[\"accuracy\"])\n",
    "stop_early = keras.callbacks.EarlyStopping(monitor='val_loss', patience=3)\n",
    "transformer.fit(train_ds, epochs=15, validation_data=val_ds, callbacks=[stop_early])"
   ]
  },
  {
   "cell_type": "markdown",
   "metadata": {
    "colab_type": "text"
   },
   "source": [
    "**Saving of the trained Transformer model**"
   ]
  },
  {
   "cell_type": "code",
   "execution_count": 16,
   "metadata": {
    "tags": []
   },
   "outputs": [],
   "source": [
    "for i in range(len(transformer.weights)):\n",
    "    transformer.weights[i]._handle_name = transformer.weights[i].name + \"_\" + str(i)\n",
    "    \n",
    "transformer.save(\"../data/transformer-fra-en-model.h5\", include_optimizer=False)\n",
    "transformer.save_weights(\"../data/transformer-fra-en-model.weights.h5\")\n"
   ]
  },
  {
   "cell_type": "markdown",
   "metadata": {
    "colab_type": "text"
   },
   "source": [
    "**Translating new sentences with our Transformer model**"
   ]
  },
  {
   "cell_type": "code",
   "execution_count": 52,
   "metadata": {
    "colab_type": "code",
    "tags": []
   },
   "outputs": [
    {
     "name": "stdout",
     "output_type": "stream",
     "text": [
      "-\n",
      "EN   he likes apples and grapes .\n",
      "FR   il aime les pommes et les raisins \n",
      "FR-> il aime les pommes et les raisins\n",
      "-\n",
      "EN   new jersey is never quiet during july , and it is sometimes wonderful in autumn .\n",
      "FR   new jersey est jamais tranquille en juillet  et il est parfois merveilleux en automne \n",
      "FR-> new jersey est jamais tranquille en juillet et il est parfois merveilleux en automne\n",
      "-\n",
      "EN   california is sometimes dry during autumn , and it is sometimes nice in april .\n",
      "FR   californie est parfois sec pendant l  automne  et il est parfois agréable en avril \n",
      "FR-> californie est parfois sec pendant l automne et il est parfois agréable en avril\n",
      "-\n",
      "EN   india is sometimes rainy during june , but it is warm in spring .\n",
      "FR   l  inde est parfois pluvieux en juin  mais il est chaud au printemps \n",
      "FR-> l inde est parfois pluvieux en juin mais il est chaud au printemps\n",
      "-\n",
      "EN   she drives the rusty white truck .\n",
      "FR   elle conduit le camion blanc rouillé \n",
      "FR-> elle conduit le camion blanc rouillé\n",
      "-\n",
      "EN   paris is beautiful during december , but it is sometimes mild in autumn .\n",
      "FR   paris est beau en décembre  mais il est parfois doux a l  automne \n",
      "FR-> paris est beau en décembre mais il est parfois doux a l automne\n",
      "-\n",
      "EN   this lion was your least favorite animal .\n",
      "FR   ce lion était votre animal préféré moins \n",
      "FR-> ce lion était votre animal préféré moins\n",
      "-\n",
      "EN   she dislikes limes , oranges , and mangoes.\n",
      "FR   elle n aime les oranges  citrons verts  et les mangues \n",
      "FR-> elle naime les oranges citrons verts et les mangues\n",
      "-\n",
      "EN   india is usually busy during august , and it is never warm in december .\n",
      "FR   l  inde est habituellement occupé au mois d  août  et il est jamais chaud en décembre \n",
      "FR-> l inde est habituellement occupé au mois d août et il est jamais chaud en décembre\n",
      "-\n",
      "EN   we like strawberries , mangoes , and bananas .\n",
      "FR   nous aimons les fraises  les mangues et les bananes \n",
      "FR-> nous aimons les fraises les mangues et les bananes\n",
      "-\n",
      "EN   she disliked the new yellow truck .\n",
      "FR   elle n aimait pas le nouveau camion jaune \n",
      "FR-> elle naimait pas le nouveau camion jaune\n",
      "-\n",
      "EN   they went to the united states last july .\n",
      "FR   ils sont allés aux états unis en juillet dernier \n",
      "FR-> ils sont allés aux étatsunis en juillet dernier\n",
      "-\n",
      "EN   france is never nice during january , but it is sometimes quiet in fall .\n",
      "FR   la france est jamais agréable en janvier  mais il est parfois calme a l  automne \n",
      "FR-> la france est jamais agréable en janvier mais il est parfois calme a l automne\n",
      "-\n",
      "EN   he dislikes apples , bananas , and strawberries .\n",
      "FR   il déteste les pommes  les bananes et les fraises \n",
      "FR-> il déteste les pommes les bananes et les fraises\n",
      "-\n",
      "EN   paris is sometimes cold during july , but it is chilly in may .\n",
      "FR   paris est parfois froid en juillet  mais il est froid en mai \n",
      "FR-> paris est parfois froid en juillet mais il est froid en mai\n",
      "-\n",
      "EN   paris is never wonderful during july , but it is usually chilly in summer .\n",
      "FR   paris est jamais merveilleux en juillet  mais il est généralement froid en été \n",
      "FR-> paris est jamais merveilleux en juillet mais il est généralement froid en été\n",
      "-\n",
      "EN   why didn't they go to california ?\n",
      "FR   pourquoi ne vont   ils pas a la californie \n",
      "FR-> pourquoi il aller a la californie\n",
      "-\n",
      "EN   she dislikes lemons , oranges , and grapefruit .\n",
      "FR   elle déteste les citrons  les oranges et le pamplemousse \n",
      "FR-> elle déteste les citrons les oranges et le pamplemousse\n",
      "-\n",
      "EN   china is never pleasant during september , but it is never beautiful in june .\n",
      "FR   chine est jamais agréable au mois de septembre  mais il est jamais beau en juin \n",
      "FR-> chine est jamais agréable en septembre mais il est jamais beau en juin\n",
      "-\n",
      "EN   she is driving a new white truck .\n",
      "FR   elle conduit un nouveau camion blanc \n",
      "FR-> elle est au volant d un nouveau camion blanc\n"
     ]
    }
   ],
   "source": [
    "import numpy as np\n",
    "fra_vocab = target_vectorization.get_vocabulary()\n",
    "fra_index_lookup = dict(zip(range(len(fra_vocab)), fra_vocab))\n",
    "max_decoded_sentence_length = 30\n",
    "\n",
    "def decode_sequence_Transformer(input_sentence):\n",
    "    tokenized_input_sentence = source_vectorization([input_sentence])\n",
    "    decoded_sentence = \"[start]\"\n",
    "    for i in range(max_decoded_sentence_length):\n",
    "        tokenized_target_sentence = target_vectorization(\n",
    "            [decoded_sentence])[:, :-1]\n",
    "        predictions = transformer(\n",
    "            [tokenized_input_sentence, tokenized_target_sentence])\n",
    "        sampled_token_index = np.argmax(predictions[0, i, :])\n",
    "        sampled_token = fra_index_lookup[sampled_token_index]\n",
    "        decoded_sentence += \" \" + sampled_token\n",
    "        if sampled_token == \"[end]\":\n",
    "            break\n",
    "    return decoded_sentence[8:-6]\n",
    "\n",
    "test_eng_texts = [pair[0] for pair in test_pairs]\n",
    "test_fra_texts = [pair[1][8:-6] for pair in test_pairs]\n",
    "\n",
    "# Removing Punctuations (we keep the . character)\n",
    "REPLACEMENTS = [(\".\", \"\"),\n",
    "                (\",\", \"\"),\n",
    "                (\";\", \"\"),\n",
    "                (\":\", \"\"),\n",
    "                (\"?\", \"\"),\n",
    "                ('\"', \"\"),\n",
    "                (\"-\", \" \"),\n",
    "                (\"'\", \" \")\n",
    "               ]\n",
    "for i in range(len(test_fra_texts)):\n",
    "    for old, new in REPLACEMENTS:\n",
    "        test_fra_texts[i] = test_fra_texts[i].replace(old, new)\n",
    "\n",
    "for _ in range(20):\n",
    "    n = random.randrange(num_val_samples)\n",
    "    input_sentence = test_eng_texts[n]\n",
    "    translation = test_fra_texts[n]\n",
    "    print(\"-\")\n",
    "    print(\"EN  \",input_sentence)\n",
    "    print(\"FR  \",translation)\n",
    "    print(\"FR->\",decode_sequence_Transformer(input_sentence))"
   ]
  },
  {
   "cell_type": "markdown",
   "metadata": {},
   "source": [
    "<br></br>\n",
    "**You turn to play:** Enter a sentence.."
   ]
  },
  {
   "cell_type": "code",
   "execution_count": 53,
   "metadata": {
    "tags": []
   },
   "outputs": [
    {
     "name": "stdout",
     "output_type": "stream",
     "text": [
      "FR-> elle est au volant d un nouveau camion blanc\n"
     ]
    }
   ],
   "source": [
    "entence = \"india is never cold during winter , but it is beautiful in autumn\"\n",
    "print(\"FR->\",decode_sequence_Transformer(input_sentence))"
   ]
  },
  {
   "cell_type": "markdown",
   "metadata": {},
   "source": [
    "**Qualité de traduction seq2seq sur le corpus Test par les 2 méthodes (300 premieres phrases)**"
   ]
  },
  {
   "cell_type": "code",
   "execution_count": 54,
   "metadata": {
    "tags": []
   },
   "outputs": [
    {
     "name": "stdout",
     "output_type": "stream",
     "text": [
      "Score Bleu de la traduction du corpus Test par la méthode RNN = 94.5%\n",
      " -> durée de traduction et de calcul du score : 1064  secondes\n",
      "\n",
      "Score Bleu de la traduction du corpus Test par la méthode Transformer = 93.4%\n",
      " -> durée de traduction et de calcul du score : 558  secondes\n",
      "\n"
     ]
    }
   ],
   "source": [
    "from sacrebleu import sentence_bleu, corpus_bleu\n",
    "\n",
    "# Taille du corpus d'évaluation\n",
    "n = 300\n",
    "\n",
    "def corpus_translation(method):\n",
    "    translation = []\n",
    "    test_eng_texts = [pair[0] for pair in test_pairs]\n",
    "    for txt in test_eng_texts[:n]:\n",
    "        if method == 'RNN':\n",
    "            translation.append(decode_sequence_RNN(txt))\n",
    "        else:\n",
    "            translation.append(decode_sequence_Transformer(txt))\n",
    "    return translation\n",
    "\n",
    "if bleu_score_to_do:\n",
    "    tps1 = time.time()\n",
    "    tr_RNN = corpus_translation('RNN')\n",
    "    translation_quality_RNN = corpus_bleu(tr_RNN, [test_fra_texts[:n]]).score\n",
    "    print(f'Score Bleu de la traduction du corpus Test par la méthode RNN = {translation_quality_RNN:.1f}%')\n",
    "    tps2 = time.time()\n",
    "    print(\" -> durée de traduction et de calcul du score :\",int(tps2-tps1),\" secondes\\n\")\n",
    "    tr_Transformer = corpus_translation('Transformer')\n",
    "    translation_quality_Transformer = corpus_bleu(tr_Transformer, [test_fra_texts[:n]]).score\n",
    "    print(f'Score Bleu de la traduction du corpus Test par la méthode Transformer = {translation_quality_Transformer:.1f}%')\n",
    "    tps3 = time.time()\n",
    "    print(\" -> durée de traduction et de calcul du score :\",int(tps3-tps2),\" secondes\\n\")\n"
   ]
  }
 ],
 "metadata": {
  "colab": {
   "collapsed_sections": [],
   "name": "chapter11_part04_sequence-to-sequence-learning.i",
   "private_outputs": false,
   "provenance": [],
   "toc_visible": true
  },
  "kernelspec": {
   "display_name": "Python 3 (ipykernel)",
   "language": "python",
   "name": "python3"
  },
  "language_info": {
   "codemirror_mode": {
    "name": "ipython",
    "version": 3
   },
   "file_extension": ".py",
   "mimetype": "text/x-python",
   "name": "python",
   "nbconvert_exporter": "python",
   "pygments_lexer": "ipython3",
   "version": "3.9.16"
  }
 },
 "nbformat": 4,
 "nbformat_minor": 4
}
