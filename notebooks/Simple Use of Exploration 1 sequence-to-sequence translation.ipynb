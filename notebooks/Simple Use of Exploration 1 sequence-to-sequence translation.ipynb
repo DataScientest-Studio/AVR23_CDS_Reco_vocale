{
 "cells": [
  {
   "cell_type": "markdown",
   "metadata": {
    "colab_type": "text"
   },
   "source": [
    "## **Sequence-to-sequence learning : EN to FR translation** - revision 01\n",
    "## **Using pre-trained models**"
   ]
  },
  {
   "cell_type": "markdown",
   "metadata": {
    "colab_type": "text"
   },
   "source": [
    "### **1. Small_vocab translation**"
   ]
  },
  {
   "cell_type": "code",
   "execution_count": 48,
   "metadata": {
    "tags": []
   },
   "outputs": [],
   "source": [
    "import os\n",
    "\n",
    "def load_data(path):\n",
    "\n",
    "    # Nombre maximum de lignes à renvoyer\n",
    "    max_lines = 140000\n",
    "    \n",
    "    input_file = os.path.join(path)\n",
    "    with open(input_file, \"r\",  encoding=\"utf-8\") as f:\n",
    "        data = f.read()\n",
    "        \n",
    "    # On convertit les majuscules en minulcule\n",
    "    data = data.lower()\n",
    "    \n",
    "    data = data.split('\\n')\n",
    "    return data[:min(len(data),max_lines)]\n",
    "\n",
    "#Chargement des textes dans les 2 langues (max lignes = max_lines)\n",
    "txt_en = load_data('../data/small_vocab_en')\n",
    "txt_fr = load_data('../data/small_vocab_fr')\n",
    "\n",
    "text_pairs = []\n",
    "for line in range(len(txt_en)):\n",
    "    txt_fr[line]=txt_fr[line].replace('à', 'a')\n",
    "    text_pairs.append((txt_en[line], \"[start] \" + txt_fr[line] + \" [end]\" ))\n",
    "    "
   ]
  },
  {
   "cell_type": "code",
   "execution_count": 49,
   "metadata": {
    "colab_type": "code",
    "tags": []
   },
   "outputs": [
    {
     "name": "stdout",
     "output_type": "stream",
     "text": [
      "('china is sometimes wet during august , and it is sometimes quiet in march .', \"[start] chine est parfois humide au mois d' août , et il est parfois calme en mars . [end]\")\n",
      "('the strawberry is our favorite fruit , but the grape is his favorite.', '[start] la fraise est notre fruit préféré , mais le raisin est son favori . [end]')\n"
     ]
    }
   ],
   "source": [
    "import random\n",
    "print(random.choice(text_pairs))\n",
    "print(random.choice(text_pairs))"
   ]
  },
  {
   "cell_type": "markdown",
   "metadata": {
    "colab_type": "text"
   },
   "source": [
    "**Vectorizing the English and French text pairs**"
   ]
  },
  {
   "cell_type": "code",
   "execution_count": 50,
   "metadata": {
    "colab_type": "code",
    "tags": []
   },
   "outputs": [],
   "source": [
    "import tensorflow as tf\n",
    "import string\n",
    "import re\n",
    "from tensorflow import keras\n",
    "from tensorflow.keras import layers\n",
    "\n",
    "strip_chars = string.punctuation + \"¿\"\n",
    "strip_chars = strip_chars.replace(\"[\", \"\")\n",
    "strip_chars = strip_chars.replace(\"]\", \"\")\n",
    "\n",
    "def custom_standardization(input_string):\n",
    "    lowercase = tf.strings.lower(input_string)\n",
    "    return tf.strings.regex_replace(\n",
    "        lowercase, f\"[{re.escape(strip_chars)}]\", \"\")\n",
    "\n",
    "def load_vocab(file_path):\n",
    "    with open(file_path, \"r\",  encoding=\"utf-8\") as file:\n",
    "        return file.read().split('\\n')[:-1]\n",
    "\n",
    "vocab_size = 15000\n",
    "sequence_length = 30\n",
    "\n",
    "source_vectorization = layers.TextVectorization(\n",
    "    max_tokens=vocab_size,\n",
    "    output_mode=\"int\",\n",
    "    output_sequence_length=sequence_length,\n",
    "    vocabulary = load_vocab(\"data/eng_vocab.txt\"),\n",
    ")\n",
    "target_vectorization = layers.TextVectorization(\n",
    "    max_tokens=vocab_size,\n",
    "    output_mode=\"int\",\n",
    "    output_sequence_length=sequence_length + 1,\n",
    "    # standardize=custom_standardization,\n",
    "    vocabulary = load_vocab(\"data/fra_vocab.txt\"),\n",
    ")\n",
    "english_texts = [pair[0] for pair in text_pairs]\n",
    "french_texts = [pair[1] for pair in text_pairs]\n"
   ]
  },
  {
   "cell_type": "markdown",
   "metadata": {},
   "source": [
    "**Defining Sample sentences for translation**"
   ]
  },
  {
   "cell_type": "code",
   "execution_count": 51,
   "metadata": {
    "tags": []
   },
   "outputs": [],
   "source": [
    "input_sentence=[]\n",
    "for i in range(20):\n",
    "    input_sentence.append(random.choice(english_texts))"
   ]
  },
  {
   "cell_type": "markdown",
   "metadata": {
    "colab_type": "text"
   },
   "source": [
    "### **2. Sequence-to-sequence learning with RNNs**"
   ]
  },
  {
   "cell_type": "markdown",
   "metadata": {
    "colab_type": "text"
   },
   "source": [
    "**Loading of the trained RNN model**"
   ]
  },
  {
   "cell_type": "code",
   "execution_count": 52,
   "metadata": {
    "tags": []
   },
   "outputs": [],
   "source": [
    "seq2seq_rnn = keras.models.load_model(\"../data/seq2seq_rnn-fra-en-model.h5\")"
   ]
  },
  {
   "cell_type": "markdown",
   "metadata": {
    "colab_type": "text"
   },
   "source": [
    "**Translating new sentences with our RNN encoder and decoder**"
   ]
  },
  {
   "cell_type": "code",
   "execution_count": 53,
   "metadata": {
    "colab_type": "code",
    "tags": []
   },
   "outputs": [
    {
     "name": "stdout",
     "output_type": "stream",
     "text": [
      "-\n",
      "EN   china is beautiful during winter , and it is sometimes nice in fall .\n",
      "FR-> chine est beau pendant l hiver et il est parfois agréable a l automne\n",
      "-\n",
      "EN   india is busy during november , but it is nice in june .\n",
      "FR-> l inde est occupé au mois de novembre mais il est agréable en juin\n",
      "-\n",
      "EN   india is never busy during april , but it is sometimes snowy in february .\n",
      "FR-> l inde est jamais occupée en avril mais il est parfois enneigée en février\n",
      "-\n",
      "EN   china is sometimes chilly during may , but it is never quiet in march .\n",
      "FR-> la chine est parfois frisquet en mai mais il est jamais tranquille en mars\n",
      "-\n",
      "EN   paris is usually snowy during january , and it is sometimes pleasant in july .\n",
      "FR-> paris est généralement enneigée en janvier et il est parfois agréable en juillet\n",
      "-\n",
      "EN   our least favorite fruit is the pear , but their least favorite is the grapefruit .\n",
      "FR-> notre fruit préféré est moins la poire mais leur moins préféré est le pamplemousse\n",
      "-\n",
      "EN   why is she going to the lake ?\n",
      "FR-> pourquoi est ce quelle va le lac\n",
      "-\n",
      "EN   she drove that old white car .\n",
      "FR-> elle a conduit cette vieille voiture blanche\n",
      "-\n",
      "EN   new jersey is never wonderful during winter , but it is quiet in may .\n",
      "FR-> new jersey est jamais merveilleux pendant l hiver mais il est calme en mai\n",
      "-\n",
      "EN   the pear is your least liked fruit , but the peach is my least liked .\n",
      "FR-> la poire est votre fruit moins aimé mais la pêche est mon moins aimé\n",
      "-\n",
      "EN   the pear is my most loved fruit , but the grape is our most loved .\n",
      "FR-> la poire est mon fruit le plus cher mais le raisin est notre plus aimé\n",
      "-\n",
      "EN   he likes grapes , pears , and mangoes.\n",
      "FR-> il aime les raisins les poires et les mangues\n",
      "-\n",
      "EN   california is usually rainy during fall , but it is beautiful in winter .\n",
      "FR-> californie est généralement pluvieux au cours de l automne mais il est beau en hiver\n",
      "-\n",
      "EN   france is sometimes wonderful during summer , but it is sometimes relaxing in october .\n",
      "FR-> la france est parfois merveilleux pendant l été mais il est parfois relaxant en octobre\n",
      "-\n",
      "EN   she likes limes , lemons , and mangoes .\n",
      "FR-> elle aime citrons verts les citrons et les mangues\n",
      "-\n",
      "EN   paris is never warm during fall , but it is busy in april .\n",
      "FR-> paris est jamais chaud a lautomne mais il est occupé en avril\n",
      "-\n",
      "EN   the united states is chilly during september , and it is nice in july .\n",
      "FR-> les étatsunis est froid au mois de septembre et il est agréable en juillet\n",
      "-\n",
      "EN   they dislike lemons , limes , and peaches .\n",
      "FR-> ils naiment les citrons citrons verts et les pêches\n",
      "-\n",
      "EN   china is never chilly during april , and it is wonderful in spring .\n",
      "FR-> chine est jamais froid en avril et il est merveilleux au printemps\n",
      "-\n",
      "EN   my most feared animal was the bear .\n",
      "FR-> mon animal le plus redouté était lours\n"
     ]
    }
   ],
   "source": [
    "import numpy as np\n",
    "fra_vocab = target_vectorization.get_vocabulary()\n",
    "fra_index_lookup = dict(zip(range(len(fra_vocab)), fra_vocab))\n",
    "max_decoded_sentence_length = 30\n",
    "\n",
    "def decode_sequence_rnn(input_sentence):\n",
    "    tokenized_input_sentence = source_vectorization([input_sentence])\n",
    "    decoded_sentence = \"[start]\"\n",
    "    for i in range(max_decoded_sentence_length):\n",
    "        tokenized_target_sentence = target_vectorization([decoded_sentence])\n",
    "        next_token_predictions = seq2seq_rnn.predict(\n",
    "            [tokenized_input_sentence, tokenized_target_sentence], verbose=0)\n",
    "        sampled_token_index = np.argmax(next_token_predictions[0, i, :])\n",
    "        sampled_token = fra_index_lookup[sampled_token_index]\n",
    "        decoded_sentence += \" \" + sampled_token\n",
    "        if sampled_token == \"[end]\":\n",
    "            break\n",
    "    return decoded_sentence[8:-6]\n",
    "\n",
    "for i in range(20):\n",
    "    print(\"-\")\n",
    "    print(\"EN  \",input_sentence[i])\n",
    "    print(\"FR->\",decode_sequence_rnn(input_sentence[i]))"
   ]
  },
  {
   "cell_type": "markdown",
   "metadata": {
    "colab_type": "text"
   },
   "source": [
    "<br></br>\n",
    "**You turn to play:** Enter a sentence.."
   ]
  },
  {
   "cell_type": "code",
   "execution_count": 54,
   "metadata": {
    "tags": []
   },
   "outputs": [
    {
     "name": "stdout",
     "output_type": "stream",
     "text": [
      "FR-> paris est généralement pluvieux pendant l été mais il est jamais merveilleux en hiver\n"
     ]
    }
   ],
   "source": [
    "your_sentence = \"paris   is usually rainy during summer , but france is never wonderful in winter\"\n",
    "print(\"FR->\",decode_sequence_rnn(your_sentence))"
   ]
  },
  {
   "cell_type": "markdown",
   "metadata": {
    "colab_type": "text"
   },
   "source": [
    "### **3. Sequence-to-sequence learning with Transformer**"
   ]
  },
  {
   "cell_type": "markdown",
   "metadata": {
    "colab_type": "text"
   },
   "source": [
    "#### The Transformer decoder"
   ]
  },
  {
   "cell_type": "markdown",
   "metadata": {
    "colab_type": "text"
   },
   "source": [
    "**The `TransformerDecoder`**"
   ]
  },
  {
   "cell_type": "code",
   "execution_count": 55,
   "metadata": {
    "colab_type": "code",
    "tags": []
   },
   "outputs": [],
   "source": [
    "class TransformerDecoder(layers.Layer):\n",
    "    def __init__(self, embed_dim, dense_dim, num_heads, **kwargs):\n",
    "        super().__init__(**kwargs)\n",
    "        self.embed_dim = embed_dim\n",
    "        self.dense_dim = dense_dim\n",
    "        self.num_heads = num_heads\n",
    "        self.attention_1 = layers.MultiHeadAttention(\n",
    "            num_heads=num_heads, key_dim=embed_dim)\n",
    "        self.attention_2 = layers.MultiHeadAttention(\n",
    "            num_heads=num_heads, key_dim=embed_dim)\n",
    "        self.dense_proj = keras.Sequential(\n",
    "            [layers.Dense(dense_dim, activation=\"relu\"),\n",
    "             layers.Dense(embed_dim),]\n",
    "        )\n",
    "        self.layernorm_1 = layers.LayerNormalization()\n",
    "        self.layernorm_2 = layers.LayerNormalization()\n",
    "        self.layernorm_3 = layers.LayerNormalization()\n",
    "        self.supports_masking = True\n",
    "\n",
    "    def get_config(self):\n",
    "        config = super().get_config()\n",
    "        config.update({\n",
    "            \"embed_dim\": self.embed_dim,\n",
    "            \"num_heads\": self.num_heads,\n",
    "            \"dense_dim\": self.dense_dim,\n",
    "        })\n",
    "        return config\n",
    "\n",
    "    def get_causal_attention_mask(self, inputs):\n",
    "        input_shape = tf.shape(inputs)\n",
    "        batch_size, sequence_length = input_shape[0], input_shape[1]\n",
    "        i = tf.range(sequence_length)[:, tf.newaxis]\n",
    "        j = tf.range(sequence_length)\n",
    "        mask = tf.cast(i >= j, dtype=\"int32\")\n",
    "        mask = tf.reshape(mask, (1, input_shape[1], input_shape[1]))\n",
    "        mult = tf.concat(\n",
    "            [tf.expand_dims(batch_size, -1),\n",
    "             tf.constant([1, 1], dtype=tf.int32)], axis=0)\n",
    "        return tf.tile(mask, mult)\n",
    "\n",
    "    def call(self, inputs, encoder_outputs, mask=None):\n",
    "        causal_mask = self.get_causal_attention_mask(inputs)\n",
    "        if mask is not None:\n",
    "            padding_mask = tf.cast(\n",
    "                mask[:, tf.newaxis, :], dtype=\"int32\")\n",
    "            padding_mask = tf.minimum(padding_mask, causal_mask)\n",
    "        else:\n",
    "            padding_mask = mask\n",
    "        attention_output_1 = self.attention_1(\n",
    "            query=inputs,\n",
    "            value=inputs,\n",
    "            key=inputs,\n",
    "            attention_mask=causal_mask)\n",
    "        attention_output_1 = self.layernorm_1(inputs + attention_output_1)\n",
    "        attention_output_2 = self.attention_2(\n",
    "            query=attention_output_1,\n",
    "            value=encoder_outputs,\n",
    "            key=encoder_outputs,\n",
    "            attention_mask=padding_mask,\n",
    "        )\n",
    "        attention_output_2 = self.layernorm_2(\n",
    "            attention_output_1 + attention_output_2)\n",
    "        proj_output = self.dense_proj(attention_output_2)\n",
    "        return self.layernorm_3(attention_output_2 + proj_output)"
   ]
  },
  {
   "cell_type": "markdown",
   "metadata": {
    "colab_type": "text"
   },
   "source": [
    "#### Putting it all together: A Transformer for machine translation"
   ]
  },
  {
   "cell_type": "markdown",
   "metadata": {
    "colab_type": "text"
   },
   "source": [
    "**PositionalEmbedding layer**"
   ]
  },
  {
   "cell_type": "code",
   "execution_count": 56,
   "metadata": {
    "colab_type": "code",
    "tags": []
   },
   "outputs": [],
   "source": [
    "class PositionalEmbedding(layers.Layer):\n",
    "    def __init__(self, sequence_length, input_dim, output_dim, **kwargs):\n",
    "        super().__init__(**kwargs)\n",
    "        self.token_embeddings = layers.Embedding(\n",
    "            input_dim=input_dim, output_dim=output_dim)\n",
    "        self.position_embeddings = layers.Embedding(\n",
    "            input_dim=sequence_length, output_dim=output_dim)\n",
    "        self.sequence_length = sequence_length\n",
    "        self.input_dim = input_dim\n",
    "        self.output_dim = output_dim\n",
    "\n",
    "    def call(self, inputs):\n",
    "        length = tf.shape(inputs)[-1]\n",
    "        positions = tf.range(start=0, limit=length, delta=1)\n",
    "        embedded_tokens = self.token_embeddings(inputs)\n",
    "        embedded_positions = self.position_embeddings(positions)\n",
    "        return embedded_tokens + embedded_positions\n",
    "\n",
    "    def compute_mask(self, inputs, mask=None):\n",
    "        return tf.math.not_equal(inputs, 0)\n",
    "\n",
    "    def get_config(self):\n",
    "        config = super(PositionalEmbedding, self).get_config()\n",
    "        config.update({\n",
    "            \"output_dim\": self.output_dim,\n",
    "            \"sequence_length\": self.sequence_length,\n",
    "            \"input_dim\": self.input_dim,\n",
    "        })\n",
    "        return config"
   ]
  },
  {
   "cell_type": "markdown",
   "metadata": {
    "colab_type": "text"
   },
   "source": [
    "**Loading of the trained Transformer model**"
   ]
  },
  {
   "cell_type": "code",
   "execution_count": 57,
   "metadata": {
    "tags": []
   },
   "outputs": [
    {
     "name": "stdout",
     "output_type": "stream",
     "text": [
      "WARNING:tensorflow:No training configuration found in the save file, so the model was *not* compiled. Compile it manually.\n"
     ]
    }
   ],
   "source": [
    "from keras_nlp.layers import TransformerEncoder\n",
    "transformer = keras.models.load_model(\n",
    "    \"data/transformer-fra-en-model.h5\",\n",
    "    custom_objects={\"PositionalEmbedding\": PositionalEmbedding, \"TransformerDecoder\": TransformerDecoder},\n",
    ")\n",
    "transformer.load_weights(\"../data/transformer-fra-en-model.weights.h5\")"
   ]
  },
  {
   "cell_type": "markdown",
   "metadata": {
    "colab_type": "text"
   },
   "source": [
    "**Translating new sentences with our Transformer model**"
   ]
  },
  {
   "cell_type": "code",
   "execution_count": 58,
   "metadata": {
    "tags": []
   },
   "outputs": [
    {
     "name": "stdout",
     "output_type": "stream",
     "text": [
      "-\n",
      "EN   china is beautiful during winter , and it is sometimes nice in fall .\n",
      "FR-> chine est beau pendant l hiver et il est parfois agréable a l automne\n",
      "-\n",
      "EN   india is busy during november , but it is nice in june .\n",
      "FR-> l inde est occupé au mois de novembre mais il est agréable en juin\n",
      "-\n",
      "EN   india is never busy during april , but it is sometimes snowy in february .\n",
      "FR-> l inde est jamais occupée en avril mais il est parfois enneigée en février\n",
      "-\n",
      "EN   china is sometimes chilly during may , but it is never quiet in march .\n",
      "FR-> la chine est parfois frisquet en mai mais il est jamais tranquille en mars\n",
      "-\n",
      "EN   paris is usually snowy during january , and it is sometimes pleasant in july .\n",
      "FR-> paris est généralement enneigée en janvier et il est parfois agréable en juillet\n",
      "-\n",
      "EN   our least favorite fruit is the pear , but their least favorite is the grapefruit .\n",
      "FR-> notre fruit préféré est moins la poire mais leur moins préféré est le pamplemousse\n",
      "-\n",
      "EN   why is she going to the lake ?\n",
      "FR-> pourquoi elle va au lac\n",
      "-\n",
      "EN   she drove that old white car .\n",
      "FR-> elle a conduit cette vieille voiture blanche\n",
      "-\n",
      "EN   new jersey is never wonderful during winter , but it is quiet in may .\n",
      "FR-> new jersey est jamais merveilleux pendant l hiver mais il est calme en mai\n",
      "-\n",
      "EN   the pear is your least liked fruit , but the peach is my least liked .\n",
      "FR-> la poire est votre fruit moins aimé mais la pêche est mon moins aimé\n",
      "-\n",
      "EN   the pear is my most loved fruit , but the grape is our most loved .\n",
      "FR-> la poire est mon fruit le plus cher mais le raisin est notre plus aimé\n",
      "-\n",
      "EN   he likes grapes , pears , and mangoes.\n",
      "FR-> il aime les raisins les poires et les mangues\n",
      "-\n",
      "EN   california is usually rainy during fall , but it is beautiful in winter .\n",
      "FR-> californie est généralement pluvieux au cours de l automne mais il est beau en hiver\n",
      "-\n",
      "EN   france is sometimes wonderful during summer , but it is sometimes relaxing in october .\n",
      "FR-> la france est parfois merveilleux pendant l été mais il est parfois relaxant en octobre\n",
      "-\n",
      "EN   she likes limes , lemons , and mangoes .\n",
      "FR-> elle aime citrons verts les citrons et les mangues\n",
      "-\n",
      "EN   paris is never warm during fall , but it is busy in april .\n",
      "FR-> paris est jamais chaud pendant l automne mais il est occupé en avril\n",
      "-\n",
      "EN   the united states is chilly during september , and it is nice in july .\n",
      "FR-> les étatsunis est froid au mois de septembre et il est agréable en juillet\n",
      "-\n",
      "EN   they dislike lemons , limes , and peaches .\n",
      "FR-> ils naiment les citrons citrons verts et les pêches\n",
      "-\n",
      "EN   china is never chilly during april , and it is wonderful in spring .\n",
      "FR-> chine est jamais froid en avril et il est merveilleux au printemps\n",
      "-\n",
      "EN   my most feared animal was the bear .\n",
      "FR-> mon animal le plus redouté était lours\n"
     ]
    }
   ],
   "source": [
    "import numpy as np\n",
    "fra_vocab = target_vectorization.get_vocabulary()\n",
    "fra_index_lookup = dict(zip(range(len(fra_vocab)), fra_vocab))\n",
    "max_decoded_sentence_length = 30\n",
    "\n",
    "def decode_sequence_tranf(input_sentence):\n",
    "    tokenized_input_sentence = source_vectorization([input_sentence])\n",
    "    decoded_sentence = \"[start]\"\n",
    "    for i in range(max_decoded_sentence_length):\n",
    "        tokenized_target_sentence = target_vectorization(\n",
    "            [decoded_sentence])[:, :-1]\n",
    "        predictions = transformer(\n",
    "            [tokenized_input_sentence, tokenized_target_sentence])\n",
    "        sampled_token_index = np.argmax(predictions[0, i, :])\n",
    "        sampled_token = fra_index_lookup[sampled_token_index]\n",
    "        decoded_sentence += \" \" + sampled_token\n",
    "        if sampled_token == \"[end]\":\n",
    "            break\n",
    "    return decoded_sentence[8:-6]\n",
    "\n",
    "for i in range(20):\n",
    "    print(\"-\")\n",
    "    print(\"EN  \",input_sentence[i])\n",
    "    print(\"FR->\",decode_sequence_tranf(input_sentence[i]))"
   ]
  },
  {
   "cell_type": "markdown",
   "metadata": {
    "colab_type": "text"
   },
   "source": [
    "<br></br>\n",
    "**You turn to play:** Enter a sentence.."
   ]
  },
  {
   "cell_type": "code",
   "execution_count": 59,
   "metadata": {
    "tags": []
   },
   "outputs": [
    {
     "name": "stdout",
     "output_type": "stream",
     "text": [
      "FR-> paris est généralement pluvieux pendant l été mais il est jamais merveilleux en hiver\n"
     ]
    }
   ],
   "source": [
    "your_sentence = \"paris   is usually rainy during summer , but france is never wonderful in winter\"\n",
    "print(\"FR->\",decode_sequence_tranf(your_sentence))"
   ]
  }
 ],
 "metadata": {
  "colab": {
   "collapsed_sections": [],
   "name": "chapter11_part04_sequence-to-sequence-learning.i",
   "private_outputs": false,
   "provenance": [],
   "toc_visible": true
  },
  "kernelspec": {
   "display_name": "Python 3 (ipykernel)",
   "language": "python",
   "name": "python3"
  },
  "language_info": {
   "codemirror_mode": {
    "name": "ipython",
    "version": 3
   },
   "file_extension": ".py",
   "mimetype": "text/x-python",
   "name": "python",
   "nbconvert_exporter": "python",
   "pygments_lexer": "ipython3",
   "version": "3.9.16"
  }
 },
 "nbformat": 4,
 "nbformat_minor": 4
}
